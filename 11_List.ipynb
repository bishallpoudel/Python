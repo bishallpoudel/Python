{
 "cells": [
  {
   "cell_type": "markdown",
   "id": "32a38c95-3792-491c-96ef-9f46e28f05f7",
   "metadata": {},
   "source": [
    "## List in Python"
   ]
  },
  {
   "cell_type": "code",
   "execution_count": 1,
   "id": "a387b252-629f-4bc1-9167-0d837606276f",
   "metadata": {},
   "outputs": [],
   "source": [
    "a = [1, 2, 3, 4]"
   ]
  },
  {
   "cell_type": "code",
   "execution_count": 6,
   "id": "a8f0fe44-265f-4884-9bae-196291b2ffd2",
   "metadata": {},
   "outputs": [
    {
     "data": {
      "text/plain": [
       "[1, 2, 3, 4, 5, [6, 7], 'Hello World', 'Hello World', 5]"
      ]
     },
     "execution_count": 6,
     "metadata": {},
     "output_type": "execute_result"
    }
   ],
   "source": [
    "# append (value)\n",
    "\n",
    "a.append(5)\n",
    "a"
   ]
  },
  {
   "cell_type": "code",
   "execution_count": 3,
   "id": "3795fb47-9f07-49ad-abdf-c3ce891c560c",
   "metadata": {},
   "outputs": [
    {
     "data": {
      "text/plain": [
       "[1, 2, 3, 4, 5, [6, 7]]"
      ]
     },
     "execution_count": 3,
     "metadata": {},
     "output_type": "execute_result"
    }
   ],
   "source": [
    "b = [6, 7]\n",
    "a.append(b)\n",
    "a"
   ]
  },
  {
   "cell_type": "code",
   "execution_count": 5,
   "id": "129912b5-b254-404b-b7eb-f9eec97c306e",
   "metadata": {},
   "outputs": [
    {
     "data": {
      "text/plain": [
       "[1, 2, 3, 4, 5, [6, 7], 'Hello World', 'Hello World']"
      ]
     },
     "execution_count": 5,
     "metadata": {},
     "output_type": "execute_result"
    }
   ],
   "source": [
    "my_str = \"Hello World\"\n",
    "a.append(my_str)\n",
    "a"
   ]
  },
  {
   "cell_type": "code",
   "execution_count": 7,
   "id": "d07d2ae7-cecd-46b4-848f-25c630f8e877",
   "metadata": {},
   "outputs": [
    {
     "data": {
      "text/plain": [
       "[1, 2, 3, 4, 5, 6, 7]"
      ]
     },
     "execution_count": 7,
     "metadata": {},
     "output_type": "execute_result"
    }
   ],
   "source": [
    "# extend (enumerable)\n",
    "\n",
    "a = [1, 2, 3, 4]\n",
    "b = [5, 6, 7]\n",
    "\n",
    "a.extend(b)\n",
    "a"
   ]
  },
  {
   "cell_type": "code",
   "execution_count": 8,
   "id": "805587f7-b8d4-485f-b0d8-9a1b113bd53d",
   "metadata": {},
   "outputs": [
    {
     "data": {
      "text/plain": [
       "[1, 2, 3, 4, 5, 6, 7, 0, 1, 2]"
      ]
     },
     "execution_count": 8,
     "metadata": {},
     "output_type": "execute_result"
    }
   ],
   "source": [
    "a.extend(range(3))\n",
    "a"
   ]
  },
  {
   "cell_type": "code",
   "execution_count": 9,
   "id": "423b7406-c1ea-4edf-bd0d-a96def44fced",
   "metadata": {},
   "outputs": [
    {
     "data": {
      "text/plain": [
       "[1, 2, 3, 4, 5, 6, 7, 0, 1, 2, 0, 0, 5, 6, 7]"
      ]
     },
     "execution_count": 9,
     "metadata": {},
     "output_type": "execute_result"
    }
   ],
   "source": [
    "l = a + [0, 0] + b\n",
    "l"
   ]
  },
  {
   "cell_type": "code",
   "execution_count": 10,
   "id": "1ba5f6c7-e757-412b-b01e-96e29ddeba76",
   "metadata": {},
   "outputs": [
    {
     "data": {
      "text/plain": [
       "2"
      ]
     },
     "execution_count": 10,
     "metadata": {},
     "output_type": "execute_result"
    }
   ],
   "source": [
    "# index (value, [startIndex])\n",
    "\n",
    "a = [1, 2, 3, 4, 5]\n",
    "\n",
    "a.index(3)"
   ]
  },
  {
   "cell_type": "code",
   "execution_count": 15,
   "id": "3cbc884a-f11b-4116-8f17-bf9fdb1bcb7f",
   "metadata": {},
   "outputs": [],
   "source": [
    "a.index(8) #ValueError"
   ]
  },
  {
   "cell_type": "code",
   "execution_count": 14,
   "id": "7be8fba7-c971-4f56-a6cc-7825050aa008",
   "metadata": {},
   "outputs": [
    {
     "data": {
      "text/plain": [
       "2"
      ]
     },
     "execution_count": 14,
     "metadata": {},
     "output_type": "execute_result"
    }
   ],
   "source": [
    "a.index(3, 2)"
   ]
  },
  {
   "cell_type": "code",
   "execution_count": 17,
   "id": "e2b720eb-d75d-44a7-a1d7-1eaa8af29965",
   "metadata": {},
   "outputs": [
    {
     "data": {
      "text/plain": [
       "[0, 1, 2, 3, 4, 5]"
      ]
     },
     "execution_count": 17,
     "metadata": {},
     "output_type": "execute_result"
    }
   ],
   "source": [
    "# insert (index, value)\n",
    "\n",
    "a = [1, 2, 3, 4, 5]\n",
    "a.insert(0, 0)\n",
    "a"
   ]
  },
  {
   "cell_type": "code",
   "execution_count": 18,
   "id": "2f60b13f-52a5-4791-a309-6effc3fce430",
   "metadata": {},
   "outputs": [
    {
     "data": {
      "text/plain": [
       "[1, 2, 3, 5]"
      ]
     },
     "execution_count": 18,
     "metadata": {},
     "output_type": "execute_result"
    }
   ],
   "source": [
    "# pop ([index])\n",
    "\n",
    "a = [1, 2, 3, 4, 5]\n",
    "a.pop(3)\n",
    "a"
   ]
  },
  {
   "cell_type": "code",
   "execution_count": 19,
   "id": "a74a87f3-191d-4eca-bd93-9cdbc74377ee",
   "metadata": {},
   "outputs": [
    {
     "data": {
      "text/plain": [
       "[1, 2, 3]"
      ]
     },
     "execution_count": 19,
     "metadata": {},
     "output_type": "execute_result"
    }
   ],
   "source": [
    "a.pop()\n",
    "a"
   ]
  },
  {
   "cell_type": "code",
   "execution_count": 20,
   "id": "6760471b-2943-4398-a894-a267544a5496",
   "metadata": {},
   "outputs": [
    {
     "data": {
      "text/plain": [
       "[1, 3, 4, 5]"
      ]
     },
     "execution_count": 20,
     "metadata": {},
     "output_type": "execute_result"
    }
   ],
   "source": [
    "# remove (value)\n",
    "\n",
    "a = [1, 2, 3, 4, 5]\n",
    "a.remove (2)\n",
    "a"
   ]
  },
  {
   "cell_type": "code",
   "execution_count": 22,
   "id": "e39f8a95-6609-49e8-a7d6-592e01580bd7",
   "metadata": {},
   "outputs": [
    {
     "data": {
      "text/plain": [
       "[5, 4, 3, 2, 1]"
      ]
     },
     "execution_count": 22,
     "metadata": {},
     "output_type": "execute_result"
    }
   ],
   "source": [
    "# reverse()\n",
    "\n",
    "a = [1, 2, 3, 4, 5]\n",
    "a.reverse()\n",
    "a"
   ]
  },
  {
   "cell_type": "code",
   "execution_count": 23,
   "id": "2eb98f00-80d2-4466-b1cc-1211c2c3ea1b",
   "metadata": {},
   "outputs": [
    {
     "data": {
      "text/plain": [
       "1"
      ]
     },
     "execution_count": 23,
     "metadata": {},
     "output_type": "execute_result"
    }
   ],
   "source": [
    "# count(value)\n",
    "\n",
    "a = [1, 2, 3, 4, 5]\n",
    "a.count(4)"
   ]
  },
  {
   "cell_type": "code",
   "execution_count": 25,
   "id": "c58a80ca-4fed-4f8c-8a77-d0edcf8af45b",
   "metadata": {},
   "outputs": [
    {
     "data": {
      "text/plain": [
       "[1, 2, 3, 5, 7, 9]"
      ]
     },
     "execution_count": 25,
     "metadata": {},
     "output_type": "execute_result"
    }
   ],
   "source": [
    "# sort()\n",
    "\n",
    "a = [1, 2, 9, 3, 7, 5]\n",
    "a.sort()\n",
    "a"
   ]
  },
  {
   "cell_type": "code",
   "execution_count": 27,
   "id": "f1749ed6-0214-47d3-9222-de9134db6003",
   "metadata": {},
   "outputs": [
    {
     "data": {
      "text/plain": [
       "[9, 7, 5, 3, 2, 1]"
      ]
     },
     "execution_count": 27,
     "metadata": {},
     "output_type": "execute_result"
    }
   ],
   "source": [
    "a.sort(reverse = True)\n",
    "a"
   ]
  },
  {
   "cell_type": "code",
   "execution_count": 28,
   "id": "e88800b7-fefc-4186-8e55-06b3bb88c1b1",
   "metadata": {},
   "outputs": [
    {
     "data": {
      "text/plain": [
       "[{'name': 'chandan', 'age': 20, 'salary': 2000},\n",
       " {'name': 'chetan', 'age': 18, 'salary': 5000},\n",
       " {'name': 'guru', 'age': 30, 'salary': 3000}]"
      ]
     },
     "execution_count": 28,
     "metadata": {},
     "output_type": "execute_result"
    }
   ],
   "source": [
    "from operator import itemgetter\n",
    "\n",
    "people = [{'name':'chandan','age':20,'salary':2000},\n",
    "    {'name':'chetan','age':18,'salary':5000},\n",
    "    {'name':'guru','age':30,'salary':3000}]\n",
    "by_age = itemgetter(\"age\")\n",
    "by_salary = itemgetter(\"salary\")\n",
    "people"
   ]
  },
  {
   "cell_type": "code",
   "execution_count": 29,
   "id": "c153603e-94f2-4544-acc3-6b9f7255aa0a",
   "metadata": {},
   "outputs": [
    {
     "data": {
      "text/plain": [
       "[{'name': 'chetan', 'age': 18, 'salary': 5000},\n",
       " {'name': 'chandan', 'age': 20, 'salary': 2000},\n",
       " {'name': 'guru', 'age': 30, 'salary': 3000}]"
      ]
     },
     "execution_count": 29,
     "metadata": {},
     "output_type": "execute_result"
    }
   ],
   "source": [
    "people.sort(key=by_age)\n",
    "people"
   ]
  },
  {
   "cell_type": "code",
   "execution_count": 31,
   "id": "8d82e172-a02a-4c46-93b6-e1b3d9b0e593",
   "metadata": {},
   "outputs": [
    {
     "data": {
      "text/plain": [
       "[{'name': 'chandan', 'age': 20, 'salary': 2000},\n",
       " {'name': 'guru', 'age': 30, 'salary': 3000},\n",
       " {'name': 'chetan', 'age': 18, 'salary': 5000}]"
      ]
     },
     "execution_count": 31,
     "metadata": {},
     "output_type": "execute_result"
    }
   ],
   "source": [
    "people.sort(key=by_salary)\n",
    "people"
   ]
  },
  {
   "cell_type": "code",
   "execution_count": 32,
   "id": "87a6c99b-71f7-485b-882f-1f891ad858f6",
   "metadata": {},
   "outputs": [
    {
     "data": {
      "text/plain": [
       "[]"
      ]
     },
     "execution_count": 32,
     "metadata": {},
     "output_type": "execute_result"
    }
   ],
   "source": [
    "# clear()\n",
    "\n",
    "a = [1, 2, 3, 4, 5]\n",
    "a.clear()\n",
    "a"
   ]
  },
  {
   "cell_type": "code",
   "execution_count": 33,
   "id": "0404e4bb-a541-423e-9ab9-7f77f04cf448",
   "metadata": {},
   "outputs": [
    {
     "data": {
      "text/plain": [
       "[1, 2, 3, 4, 5, 1, 2, 3, 4, 5, 1, 2, 3, 4, 5]"
      ]
     },
     "execution_count": 33,
     "metadata": {},
     "output_type": "execute_result"
    }
   ],
   "source": [
    "# Replication\n",
    "\n",
    "a = [1, 2, 3, 4, 5]\n",
    "b = a*3\n",
    "b"
   ]
  },
  {
   "cell_type": "code",
   "execution_count": 34,
   "id": "ba4bffcc-2d73-41a6-854e-80d9fe273542",
   "metadata": {},
   "outputs": [
    {
     "data": {
      "text/plain": [
       "[0, 1, 2, 3, 4, 5, 6, 7, 8, 9]"
      ]
     },
     "execution_count": 34,
     "metadata": {},
     "output_type": "execute_result"
    }
   ],
   "source": [
    "# Element deletion\n",
    "\n",
    "a = list(range(10))\n",
    "a"
   ]
  },
  {
   "cell_type": "code",
   "execution_count": 36,
   "id": "fb36e8de-04b2-4e4b-85b5-830fe4b34a50",
   "metadata": {},
   "outputs": [
    {
     "data": {
      "text/plain": [
       "[3, 7]"
      ]
     },
     "execution_count": 36,
     "metadata": {},
     "output_type": "execute_result"
    }
   ],
   "source": [
    "del a[::2]\n",
    "a"
   ]
  },
  {
   "cell_type": "code",
   "execution_count": 39,
   "id": "1d4b23c9-6a71-43b7-a921-00bab1e5b2a1",
   "metadata": {},
   "outputs": [
    {
     "data": {
      "text/plain": [
       "[0, 1, 2, 3]"
      ]
     },
     "execution_count": 39,
     "metadata": {},
     "output_type": "execute_result"
    }
   ],
   "source": [
    "a = list(range(5))\n",
    "del a[-1]\n",
    "a"
   ]
  },
  {
   "cell_type": "code",
   "execution_count": 40,
   "id": "a02318b3-23b7-4ba5-bf6b-0bbe60f4c62c",
   "metadata": {},
   "outputs": [
    {
     "data": {
      "text/plain": [
       "[]"
      ]
     },
     "execution_count": 40,
     "metadata": {},
     "output_type": "execute_result"
    }
   ],
   "source": [
    "del a[:]\n",
    "a"
   ]
  },
  {
   "cell_type": "code",
   "execution_count": 41,
   "id": "de356293-68ec-4778-b1f3-e7d1d50f2e3b",
   "metadata": {},
   "outputs": [
    {
     "data": {
      "text/plain": [
       "[1, 2, 3, 4, 5]"
      ]
     },
     "execution_count": 41,
     "metadata": {},
     "output_type": "execute_result"
    }
   ],
   "source": [
    "# Copying\n",
    "\n",
    "a = [1, 2, 3, 4, 5]\n",
    "b = a\n",
    "b"
   ]
  },
  {
   "cell_type": "code",
   "execution_count": 42,
   "id": "4b648807-90c5-4544-9562-915a2fd5fedc",
   "metadata": {},
   "outputs": [
    {
     "data": {
      "text/plain": [
       "[1, 2, 3, 4, 5]"
      ]
     },
     "execution_count": 42,
     "metadata": {},
     "output_type": "execute_result"
    }
   ],
   "source": [
    "new_lst = list(a)\n",
    "new_lst"
   ]
  },
  {
   "cell_type": "code",
   "execution_count": 44,
   "id": "a5d623be-30e8-4004-932a-437f3941db80",
   "metadata": {},
   "outputs": [
    {
     "data": {
      "text/plain": [
       "[1, 2, 3, 4, 5]"
      ]
     },
     "execution_count": 44,
     "metadata": {},
     "output_type": "execute_result"
    }
   ],
   "source": [
    "import copy\n",
    "n = copy.copy(a)  \n",
    "n"
   ]
  },
  {
   "cell_type": "code",
   "execution_count": 45,
   "id": "14928bfc-ecd7-4841-99e8-9524805cddfa",
   "metadata": {},
   "outputs": [
    {
     "data": {
      "text/plain": [
       "[1, 2, 3, 4, 5]"
      ]
     },
     "execution_count": 45,
     "metadata": {},
     "output_type": "execute_result"
    }
   ],
   "source": [
    "nl = copy.deepcopy(a)\n",
    "nl"
   ]
  },
  {
   "cell_type": "code",
   "execution_count": 46,
   "id": "5c63c48a-ab36-49bf-b3d6-bc9e4415c718",
   "metadata": {},
   "outputs": [
    {
     "data": {
      "text/plain": [
       "[1, 2, 3, 4, 5]"
      ]
     },
     "execution_count": 46,
     "metadata": {},
     "output_type": "execute_result"
    }
   ],
   "source": [
    "new = a.copy()\n",
    "new"
   ]
  },
  {
   "cell_type": "code",
   "execution_count": 47,
   "id": "6cdb8d1c-e152-4b1e-a10c-c02f1b0580e4",
   "metadata": {},
   "outputs": [
    {
     "data": {
      "text/plain": [
       "2"
      ]
     },
     "execution_count": 47,
     "metadata": {},
     "output_type": "execute_result"
    }
   ],
   "source": [
    "# Accessing list value\n",
    "\n",
    "a = [1, 2, 3, 4, 5]\n",
    "a[1]"
   ]
  },
  {
   "cell_type": "code",
   "execution_count": 48,
   "id": "b22115f0-4546-445e-a403-72c702bb803f",
   "metadata": {},
   "outputs": [
    {
     "data": {
      "text/plain": [
       "5"
      ]
     },
     "execution_count": 48,
     "metadata": {},
     "output_type": "execute_result"
    }
   ],
   "source": [
    "a[-1]"
   ]
  },
  {
   "cell_type": "code",
   "execution_count": 49,
   "id": "4ebc598b-5531-4a7f-a34f-a53c3f10598b",
   "metadata": {},
   "outputs": [
    {
     "data": {
      "text/plain": [
       "[1, 2, 3]"
      ]
     },
     "execution_count": 49,
     "metadata": {},
     "output_type": "execute_result"
    }
   ],
   "source": [
    "a[:3]"
   ]
  },
  {
   "cell_type": "code",
   "execution_count": 50,
   "id": "c34a2070-7391-4107-8c12-59442511ab5a",
   "metadata": {},
   "outputs": [
    {
     "data": {
      "text/plain": [
       "[5, 4, 3, 2, 1]"
      ]
     },
     "execution_count": 50,
     "metadata": {},
     "output_type": "execute_result"
    }
   ],
   "source": [
    "a[::-1]"
   ]
  },
  {
   "cell_type": "code",
   "execution_count": 51,
   "id": "bed30153-0b47-4829-87cb-211bfff1db2a",
   "metadata": {},
   "outputs": [
    {
     "data": {
      "text/plain": [
       "[1, 3, 5]"
      ]
     },
     "execution_count": 51,
     "metadata": {},
     "output_type": "execute_result"
    }
   ],
   "source": [
    "a[0:5:2]"
   ]
  },
  {
   "cell_type": "code",
   "execution_count": 54,
   "id": "07ff9076-1ae1-46cb-b7f8-57ff296e08b8",
   "metadata": {},
   "outputs": [
    {
     "name": "stdout",
     "output_type": "stream",
     "text": [
      "John Happy   \n",
      "19\n",
      "2001\n"
     ]
    }
   ],
   "source": [
    "# Advance slicing\n",
    "\n",
    "data = \"John Happy   19  2001\"\n",
    "name = slice(0, 13)\n",
    "age = slice(13, 15)\n",
    "date = slice(17, None)\n",
    "\n",
    "print(data[name])\n",
    "print(data[age])\n",
    "print(data[date])"
   ]
  },
  {
   "cell_type": "code",
   "execution_count": 55,
   "id": "dcec285e-6033-483c-8191-0e50cb9b686d",
   "metadata": {},
   "outputs": [
    {
     "name": "stdout",
     "output_type": "stream",
     "text": [
      "List is Empty !\n"
     ]
    }
   ],
   "source": [
    "# Checking empty list\n",
    "\n",
    "lst = []\n",
    "if not lst:\n",
    "    print(\"List is Empty !\")"
   ]
  },
  {
   "cell_type": "code",
   "execution_count": 56,
   "id": "16546cf4-536e-4365-b58c-2533f6ae4da5",
   "metadata": {},
   "outputs": [
    {
     "name": "stdout",
     "output_type": "stream",
     "text": [
      "1\n",
      "two\n",
      "3\n",
      "four\n",
      "5\n"
     ]
    }
   ],
   "source": [
    "# Iteration in list\n",
    "\n",
    "lst = [1, \"two\", 3, \"four\", 5]\n",
    "\n",
    "for item in lst:\n",
    "    print(item)"
   ]
  },
  {
   "cell_type": "code",
   "execution_count": 57,
   "id": "42ac79f3-e737-48f3-8550-d77bed2294a0",
   "metadata": {},
   "outputs": [
    {
     "name": "stdout",
     "output_type": "stream",
     "text": [
      "Item in position 0 is : 1\n",
      "Item in position 1 is : two\n",
      "Item in position 2 is : 3\n",
      "Item in position 3 is : four\n",
      "Item in position 4 is : 5\n"
     ]
    }
   ],
   "source": [
    "for (index, item) in enumerate(lst):\n",
    "    print(\"Item in position {} is : {}\".format(index, item))"
   ]
  },
  {
   "cell_type": "code",
   "execution_count": 58,
   "id": "32b28c60-39b1-4489-8c3c-092d74fd9e4a",
   "metadata": {},
   "outputs": [
    {
     "name": "stdout",
     "output_type": "stream",
     "text": [
      "1\n",
      "two\n",
      "3\n",
      "four\n",
      "5\n"
     ]
    }
   ],
   "source": [
    "for i in range(0, len(lst)):\n",
    "    print(lst[i])"
   ]
  },
  {
   "cell_type": "code",
   "execution_count": 59,
   "id": "5b6d5def-2dba-4be5-a4a5-74e066d5c81e",
   "metadata": {},
   "outputs": [
    {
     "data": {
      "text/plain": [
       "False"
      ]
     },
     "execution_count": 59,
     "metadata": {},
     "output_type": "execute_result"
    }
   ],
   "source": [
    "\"one\" in lst"
   ]
  },
  {
   "cell_type": "code",
   "execution_count": 60,
   "id": "75582a1d-01a3-4171-87f7-297b0c29dfa0",
   "metadata": {},
   "outputs": [
    {
     "data": {
      "text/plain": [
       "True"
      ]
     },
     "execution_count": 60,
     "metadata": {},
     "output_type": "execute_result"
    }
   ],
   "source": [
    "\"two\" in lst"
   ]
  },
  {
   "cell_type": "code",
   "execution_count": 61,
   "id": "7a2cf6cc-00fe-4e25-af1d-28f0cfe58cf3",
   "metadata": {},
   "outputs": [
    {
     "data": {
      "text/plain": [
       "True"
      ]
     },
     "execution_count": 61,
     "metadata": {},
     "output_type": "execute_result"
    }
   ],
   "source": [
    "all(lst)"
   ]
  },
  {
   "cell_type": "code",
   "execution_count": 62,
   "id": "53a06bbf-197f-45c4-9d37-536d4851fa5a",
   "metadata": {},
   "outputs": [
    {
     "data": {
      "text/plain": [
       "True"
      ]
     },
     "execution_count": 62,
     "metadata": {},
     "output_type": "execute_result"
    }
   ],
   "source": [
    "any(lst)"
   ]
  },
  {
   "cell_type": "code",
   "execution_count": 67,
   "id": "7294127a-b890-4da4-8065-e196a63fb88d",
   "metadata": {},
   "outputs": [],
   "source": [
    "itr = [1, 0]\n",
    "itr1 = [False, None]"
   ]
  },
  {
   "cell_type": "code",
   "execution_count": 64,
   "id": "3f27bdaf-2342-46d7-97fa-13262d8007a1",
   "metadata": {},
   "outputs": [
    {
     "data": {
      "text/plain": [
       "False"
      ]
     },
     "execution_count": 64,
     "metadata": {},
     "output_type": "execute_result"
    }
   ],
   "source": [
    "all(itr)"
   ]
  },
  {
   "cell_type": "code",
   "execution_count": 65,
   "id": "6e643422-c698-460b-9759-b868a6d372a1",
   "metadata": {},
   "outputs": [
    {
     "data": {
      "text/plain": [
       "True"
      ]
     },
     "execution_count": 65,
     "metadata": {},
     "output_type": "execute_result"
    }
   ],
   "source": [
    "any(itr)"
   ]
  },
  {
   "cell_type": "code",
   "execution_count": 68,
   "id": "d0382828-c8f6-4197-9ab3-90d9d8a3e870",
   "metadata": {},
   "outputs": [
    {
     "data": {
      "text/plain": [
       "False"
      ]
     },
     "execution_count": 68,
     "metadata": {},
     "output_type": "execute_result"
    }
   ],
   "source": [
    "all(itr1)"
   ]
  },
  {
   "cell_type": "code",
   "execution_count": 69,
   "id": "ad01156c-1b21-4e22-af09-3d51192eb265",
   "metadata": {},
   "outputs": [
    {
     "data": {
      "text/plain": [
       "False"
      ]
     },
     "execution_count": 69,
     "metadata": {},
     "output_type": "execute_result"
    }
   ],
   "source": [
    "any(itr1)"
   ]
  },
  {
   "cell_type": "code",
   "execution_count": 70,
   "id": "f0bbe039-e223-4847-93d2-436196236382",
   "metadata": {},
   "outputs": [
    {
     "data": {
      "text/plain": [
       "False"
      ]
     },
     "execution_count": 70,
     "metadata": {},
     "output_type": "execute_result"
    }
   ],
   "source": [
    "a = [1, 2, 3, 4, 5]\n",
    "\n",
    "any(v > 5 for v in a) "
   ]
  },
  {
   "cell_type": "code",
   "execution_count": 71,
   "id": "3a7f3cb6-d45d-4702-bf9e-6b6a68accd81",
   "metadata": {},
   "outputs": [
    {
     "data": {
      "text/plain": [
       "[0, 1, 2, 3, 4, 5, 6, 7, 8, 9]"
      ]
     },
     "execution_count": 71,
     "metadata": {},
     "output_type": "execute_result"
    }
   ],
   "source": [
    "# Reversing list\n",
    "\n",
    "num = list(range(10))\n",
    "num"
   ]
  },
  {
   "cell_type": "code",
   "execution_count": 73,
   "id": "65baf2e4-ed9e-4b53-8492-405aa8eee876",
   "metadata": {},
   "outputs": [
    {
     "name": "stdout",
     "output_type": "stream",
     "text": [
      "<list_reverseiterator object at 0x000001E013837CD0>\n"
     ]
    }
   ],
   "source": [
    "rev = reversed(num)\n",
    "print(rev)"
   ]
  },
  {
   "cell_type": "code",
   "execution_count": 74,
   "id": "f374febe-e2ee-40e0-8326-1bad84c909fa",
   "metadata": {},
   "outputs": [
    {
     "data": {
      "text/plain": [
       "[9, 8, 7, 6, 5, 4, 3, 2, 1, 0]"
      ]
     },
     "execution_count": 74,
     "metadata": {},
     "output_type": "execute_result"
    }
   ],
   "source": [
    "num[::-1]"
   ]
  },
  {
   "cell_type": "code",
   "execution_count": 75,
   "id": "1ffb513d-5e0b-443f-9de6-d9245d1c09d4",
   "metadata": {},
   "outputs": [
    {
     "data": {
      "text/plain": [
       "[1, 2, 3, 4, 'one', 'two', 'three', 'four']"
      ]
     },
     "execution_count": 75,
     "metadata": {},
     "output_type": "execute_result"
    }
   ],
   "source": [
    "lst1 = [1, 2, 3, 4]\n",
    "lst2 = [\"one\", \"two\", \"three\", \"four\"]\n",
    "merged = lst1 + lst2\n",
    "merged"
   ]
  },
  {
   "cell_type": "code",
   "execution_count": 77,
   "id": "c2e0f3c7-1640-4ff4-bee5-f43354bdef28",
   "metadata": {},
   "outputs": [
    {
     "name": "stdout",
     "output_type": "stream",
     "text": [
      "1 one\n",
      "2 two\n",
      "3 three\n",
      "4 four\n"
     ]
    }
   ],
   "source": [
    "for a, b in zip(lst1, lst2):  # zip() returns a list of touple\n",
    "    print(a, b)"
   ]
  },
  {
   "cell_type": "code",
   "execution_count": 78,
   "id": "8309de4b-de85-4d05-9417-b1d367e30f0f",
   "metadata": {},
   "outputs": [
    {
     "name": "stdout",
     "output_type": "stream",
     "text": [
      "1 one\n",
      "2 two\n",
      "3 three\n",
      "4 four\n"
     ]
    }
   ],
   "source": [
    "lst1 = [1, 2, 3, 4, 5]\n",
    "lst2 = [\"one\", \"two\", \"three\", \"four\"]\n",
    "\n",
    "for a, b in zip(lst1, lst2):\n",
    "    print(a, b)"
   ]
  },
  {
   "cell_type": "code",
   "execution_count": 81,
   "id": "cabf650a-d236-47d2-afad-294d2b89f366",
   "metadata": {},
   "outputs": [
    {
     "name": "stdout",
     "output_type": "stream",
     "text": [
      "1 one I\n"
     ]
    }
   ],
   "source": [
    "lst1 = [1, 2, 3, 4, 5]\n",
    "lst2 = [\"one\", \"two\", \"three\", \"four\"]\n",
    "lst3 = [\"I\"]\n",
    "\n",
    "for a, b, c in zip(lst1, lst2, lst3):\n",
    "    print(a, b, c)"
   ]
  },
  {
   "cell_type": "code",
   "execution_count": 82,
   "id": "687b612e-d5e3-4991-acad-8fe731a8e83c",
   "metadata": {},
   "outputs": [
    {
     "data": {
      "text/plain": [
       "['one', 'II', 'two', 'three', 'four']"
      ]
     },
     "execution_count": 82,
     "metadata": {},
     "output_type": "execute_result"
    }
   ],
   "source": [
    "lst = [\"one\", \"two\", \"three\", \"four\"]\n",
    "lst.insert(1, \"II\")\n",
    "lst"
   ]
  },
  {
   "cell_type": "code",
   "execution_count": 83,
   "id": "2853fd56-a32d-4b2d-911d-3d6315d2637b",
   "metadata": {},
   "outputs": [
    {
     "data": {
      "text/plain": [
       "5"
      ]
     },
     "execution_count": 83,
     "metadata": {},
     "output_type": "execute_result"
    }
   ],
   "source": [
    "len(lst)"
   ]
  },
  {
   "cell_type": "code",
   "execution_count": 84,
   "id": "822ca7ab-80ba-49e7-9db6-43a1c18c2e50",
   "metadata": {},
   "outputs": [
    {
     "data": {
      "text/plain": [
       "['two', 'three', 'one', 'four']"
      ]
     },
     "execution_count": 84,
     "metadata": {},
     "output_type": "execute_result"
    }
   ],
   "source": [
    "lst = [\"one\", \"two\", \"three\", \"four\", \"four\"]\n",
    "list(set(lst))"
   ]
  },
  {
   "cell_type": "code",
   "execution_count": 85,
   "id": "03d34d87-9ea9-4ee6-b6e4-153d7d5c08b0",
   "metadata": {},
   "outputs": [
    {
     "data": {
      "text/plain": [
       "True"
      ]
     },
     "execution_count": 85,
     "metadata": {},
     "output_type": "execute_result"
    }
   ],
   "source": [
    "[1, 3, 100] > [0, 2, 30]"
   ]
  },
  {
   "cell_type": "code",
   "execution_count": 86,
   "id": "2fee5aa4-a4db-4922-81f5-8c5bd59fa071",
   "metadata": {},
   "outputs": [
    {
     "data": {
      "text/plain": [
       "True"
      ]
     },
     "execution_count": 86,
     "metadata": {},
     "output_type": "execute_result"
    }
   ],
   "source": [
    "[3, 5] < [5, 7, 9]"
   ]
  },
  {
   "cell_type": "code",
   "execution_count": 87,
   "id": "ccafb0a0-44af-4db2-9f8b-bbfbc51f7f92",
   "metadata": {},
   "outputs": [
    {
     "data": {
      "text/plain": [
       "[[1, 2, 3], [[1, 1], [2, 2], [3, 3]], [4, 5, 6]]"
      ]
     },
     "execution_count": 87,
     "metadata": {},
     "output_type": "execute_result"
    }
   ],
   "source": [
    "# Nested list\n",
    "\n",
    "nest_lst = [[1, 2, 3], [[1, 1], [2, 2], [3, 3]], [4, 5, 6]]\n",
    "nest_lst"
   ]
  },
  {
   "cell_type": "code",
   "execution_count": 88,
   "id": "d9865c4d-53be-4bcb-a8ab-dee3db1928a2",
   "metadata": {},
   "outputs": [
    {
     "data": {
      "text/plain": [
       "[[1, 1], [2, 2], [3, 3]]"
      ]
     },
     "execution_count": 88,
     "metadata": {},
     "output_type": "execute_result"
    }
   ],
   "source": [
    "nest_lst[1]"
   ]
  },
  {
   "cell_type": "code",
   "execution_count": 89,
   "id": "05c0e03e-642d-4d77-8581-c11cb90209ca",
   "metadata": {},
   "outputs": [
    {
     "data": {
      "text/plain": [
       "3"
      ]
     },
     "execution_count": 89,
     "metadata": {},
     "output_type": "execute_result"
    }
   ],
   "source": [
    "nest_lst[1][2][0]"
   ]
  },
  {
   "cell_type": "code",
   "execution_count": 92,
   "id": "30a6579e-5d4b-446d-a6e6-6222141807bf",
   "metadata": {},
   "outputs": [
    {
     "data": {
      "text/plain": [
       "[[1, 2, 3, 0], [[1, 1], [2, 2], [3, 3]], [4, 5, 6]]"
      ]
     },
     "execution_count": 92,
     "metadata": {},
     "output_type": "execute_result"
    }
   ],
   "source": [
    "nest_lst[0].append(0)\n",
    "nest_lst"
   ]
  },
  {
   "cell_type": "code",
   "execution_count": 93,
   "id": "70c2c307-917a-4f7a-9731-f6890608b70d",
   "metadata": {},
   "outputs": [
    {
     "name": "stdout",
     "output_type": "stream",
     "text": [
      "[1, 2]\n",
      "[3, 4]\n",
      "[5, 6]\n",
      "[1, 1]\n",
      "[2, 2]\n",
      "[3, 3]\n",
      "[6, 6]\n",
      "[7, 7]\n",
      "[8, 8]\n"
     ]
    }
   ],
   "source": [
    "nest_lst = [[[1, 2], [3, 4], [5, 6]], [[1, 1], [2, 2], [3, 3]], [[6, 6], [7, 7], [8, 8]]]\n",
    "for row in nest_lst:\n",
    "    for  col in row:\n",
    "        print(col)"
   ]
  },
  {
   "cell_type": "code",
   "execution_count": 95,
   "id": "322d213b-3ed7-45bf-ab7c-cb96525ad609",
   "metadata": {},
   "outputs": [
    {
     "data": {
      "text/plain": [
       "[[1, 2], [3, 4], [5, 6], [1, 1], [2, 2], [3, 3], [6, 6], [7, 7], [8, 8]]"
      ]
     },
     "execution_count": 95,
     "metadata": {},
     "output_type": "execute_result"
    }
   ],
   "source": [
    "[col for row in nest_lst for col in row]"
   ]
  },
  {
   "cell_type": "code",
   "execution_count": null,
   "id": "73d0433e-cdae-4101-a8e6-ec0f93c035a9",
   "metadata": {},
   "outputs": [],
   "source": []
  }
 ],
 "metadata": {
  "kernelspec": {
   "display_name": "Python 3 (ipykernel)",
   "language": "python",
   "name": "python3"
  },
  "language_info": {
   "codemirror_mode": {
    "name": "ipython",
    "version": 3
   },
   "file_extension": ".py",
   "mimetype": "text/x-python",
   "name": "python",
   "nbconvert_exporter": "python",
   "pygments_lexer": "ipython3",
   "version": "3.9.7"
  }
 },
 "nbformat": 4,
 "nbformat_minor": 5
}
