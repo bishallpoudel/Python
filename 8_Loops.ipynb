{
 "cells": [
  {
   "cell_type": "markdown",
   "id": "5d2c2ae0-f981-41c1-b83e-666c041783fb",
   "metadata": {},
   "source": [
    "## Loops"
   ]
  },
  {
   "cell_type": "markdown",
   "id": "10ff40e3-2359-4403-bee7-76f04a07b72a",
   "metadata": {},
   "source": [
    "##### 1. while loop"
   ]
  },
  {
   "cell_type": "code",
   "execution_count": 1,
   "id": "3406a35a-70de-4ade-9ab1-d5be5d762d87",
   "metadata": {},
   "outputs": [
    {
     "name": "stdout",
     "output_type": "stream",
     "text": [
      "0\n",
      "1\n",
      "2\n",
      "3\n"
     ]
    }
   ],
   "source": [
    "i = 0\n",
    "while i < 4:\n",
    "    print(i)\n",
    "    i += 1"
   ]
  },
  {
   "cell_type": "code",
   "execution_count": null,
   "id": "e8b4ca30-91fa-4e38-9e38-1eed16049957",
   "metadata": {},
   "outputs": [],
   "source": [
    "# Infinite loop\n",
    "\n",
    "while True:\n",
    "    print(\"Infinite\")"
   ]
  },
  {
   "cell_type": "markdown",
   "id": "1de2c317-8323-4057-9979-b827b51b7bae",
   "metadata": {},
   "source": [
    "#### 2. do-while loop"
   ]
  },
  {
   "cell_type": "code",
   "execution_count": 2,
   "id": "9800bb74-945b-460b-98e2-2c8234231878",
   "metadata": {},
   "outputs": [
    {
     "name": "stdout",
     "output_type": "stream",
     "text": [
      "10\n",
      "9\n",
      "8\n",
      "7\n",
      "6\n",
      "5\n"
     ]
    }
   ],
   "source": [
    "a = 10\n",
    "while True:\n",
    "    print(a)\n",
    "    a -= 1\n",
    "    if(a < 5):\n",
    "        break"
   ]
  },
  {
   "cell_type": "markdown",
   "id": "0bcfe564-8c43-4a4a-8290-da7109b7b307",
   "metadata": {},
   "source": [
    "#### 3. for loop"
   ]
  },
  {
   "cell_type": "code",
   "execution_count": 3,
   "id": "91f8dbb3-7505-4548-97fc-6a2c9f3c51fb",
   "metadata": {},
   "outputs": [
    {
     "name": "stdout",
     "output_type": "stream",
     "text": [
      "0\n",
      "1\n",
      "2\n",
      "3\n",
      "4\n",
      "5\n"
     ]
    }
   ],
   "source": [
    "for i in [0, 1, 2, 3, 4, 5]:\n",
    "    print(i)"
   ]
  },
  {
   "cell_type": "code",
   "execution_count": 4,
   "id": "65f31624-5eca-42e5-8f42-9c496fb21086",
   "metadata": {},
   "outputs": [
    {
     "name": "stdout",
     "output_type": "stream",
     "text": [
      "0\n",
      "1\n",
      "2\n",
      "3\n",
      "4\n",
      "5\n"
     ]
    }
   ],
   "source": [
    "for i in range(6):\n",
    "    print(i)"
   ]
  },
  {
   "cell_type": "markdown",
   "id": "d7afa507-41d8-4295-a3cd-5d63ebc411ba",
   "metadata": {},
   "source": [
    ">break and continue"
   ]
  },
  {
   "cell_type": "code",
   "execution_count": 5,
   "id": "cd010f2e-abdb-477a-974a-84cb8491f99e",
   "metadata": {},
   "outputs": [
    {
     "name": "stdout",
     "output_type": "stream",
     "text": [
      "0\n",
      "1\n",
      "2\n",
      "3\n",
      "4\n"
     ]
    }
   ],
   "source": [
    "for i in range(6):\n",
    "    print(i)\n",
    "    if i == 4:\n",
    "        break"
   ]
  },
  {
   "cell_type": "code",
   "execution_count": 8,
   "id": "77d170fe-9cf3-453a-b7ec-976352b580e6",
   "metadata": {},
   "outputs": [
    {
     "name": "stdout",
     "output_type": "stream",
     "text": [
      "0\n",
      "1\n",
      "2\n",
      "3\n",
      "5\n"
     ]
    }
   ],
   "source": [
    "for i in range(0, 6):\n",
    "    if i == 4:\n",
    "        continue\n",
    "    print(i)"
   ]
  },
  {
   "cell_type": "markdown",
   "id": "27b752a8-af9c-4a7e-8867-e0e940ed6c9f",
   "metadata": {},
   "source": [
    ">Nested loops"
   ]
  },
  {
   "cell_type": "code",
   "execution_count": 4,
   "id": "9e87030a-5e91-4932-81ae-bb189ed20294",
   "metadata": {},
   "outputs": [
    {
     "name": "stdout",
     "output_type": "stream",
     "text": [
      "1\n",
      "2\n"
     ]
    }
   ],
   "source": [
    "while True:\n",
    "    for i in range(1, 5):\n",
    "        if i == 3:\n",
    "            break\n",
    "        print(i)\n",
    "    break"
   ]
  },
  {
   "cell_type": "code",
   "execution_count": 10,
   "id": "f84c1478-1317-45cd-b7da-9a9714f98eb9",
   "metadata": {},
   "outputs": [
    {
     "name": "stdout",
     "output_type": "stream",
     "text": [
      "1\n",
      "2\n",
      "3\n",
      "4\n",
      "2\n",
      "4\n"
     ]
    },
    {
     "data": {
      "text/plain": [
       "3"
      ]
     },
     "execution_count": 10,
     "metadata": {},
     "output_type": "execute_result"
    }
   ],
   "source": [
    "def return_():\n",
    "    for j in range(1, 5):\n",
    "        for i in range(1, 5):\n",
    "            if i*j == 6:\n",
    "                return i\n",
    "            print(i*j)\n",
    "            \n",
    "        \n",
    "return_()"
   ]
  },
  {
   "cell_type": "markdown",
   "id": "71bc1a50-0d07-4bd1-84c3-7faeeeb2fd72",
   "metadata": {},
   "source": [
    ">iterating in list"
   ]
  },
  {
   "cell_type": "code",
   "execution_count": 11,
   "id": "9ead6f05-7852-4801-bdee-36cfe5841ee6",
   "metadata": {},
   "outputs": [
    {
     "name": "stdout",
     "output_type": "stream",
     "text": [
      "one\n",
      "none\n",
      "two\n",
      "you\n"
     ]
    }
   ],
   "source": [
    "for x in [\"one\", \"none\", \"two\", \"you\"]:\n",
    "    print(x)"
   ]
  },
  {
   "cell_type": "code",
   "execution_count": 12,
   "id": "4327df53-9259-4c99-b9a7-bace18e64c40",
   "metadata": {},
   "outputs": [
    {
     "name": "stdout",
     "output_type": "stream",
     "text": [
      "0  :  one\n",
      "1  :  two\n",
      "2  :  three\n",
      "3  :  four\n"
     ]
    }
   ],
   "source": [
    "for index, item in enumerate(['one', 'two', 'three', 'four']):\n",
    "    print(index, \" : \", item)"
   ]
  },
  {
   "cell_type": "markdown",
   "id": "1f60c87d-e09e-44be-ab72-7f89846bf3c4",
   "metadata": {},
   "source": [
    ">loop with else"
   ]
  },
  {
   "cell_type": "code",
   "execution_count": 14,
   "id": "740327f4-6a5b-4699-a2fd-0a57067bbe96",
   "metadata": {},
   "outputs": [
    {
     "name": "stdout",
     "output_type": "stream",
     "text": [
      "0\n",
      "1\n",
      "2\n",
      "done\n"
     ]
    }
   ],
   "source": [
    "for i in range(3):\n",
    "    print(i)\n",
    "else:\n",
    "    print(\"done\")"
   ]
  },
  {
   "cell_type": "code",
   "execution_count": 16,
   "id": "d54e792b-4cc4-4471-90e8-7d5c23afaf3c",
   "metadata": {},
   "outputs": [
    {
     "name": "stdout",
     "output_type": "stream",
     "text": [
      "no exception\n",
      "no exception\n",
      "no exception\n",
      "no exception\n"
     ]
    }
   ],
   "source": [
    "a = [1, 2, 3, 4]\n",
    "for i in a:\n",
    "    if type(i) is not int:\n",
    "        print(i)\n",
    "        break\n",
    "    else:\n",
    "        print(\"no exception\")"
   ]
  },
  {
   "cell_type": "markdown",
   "id": "69398171-c911-4092-8f1f-d856c427696b",
   "metadata": {},
   "source": [
    ">pass"
   ]
  },
  {
   "cell_type": "code",
   "execution_count": 17,
   "id": "48bdac37-be09-4510-bf94-ca03bbea7db0",
   "metadata": {},
   "outputs": [],
   "source": [
    "for x in range(10):\n",
    "    pass"
   ]
  },
  {
   "cell_type": "markdown",
   "id": "b06ade84-4eda-481d-9382-32826adea255",
   "metadata": {},
   "source": [
    ">Iterating dictionary"
   ]
  },
  {
   "cell_type": "code",
   "execution_count": 21,
   "id": "3638ff7b-2a70-4f24-b913-1bf8712b0035",
   "metadata": {},
   "outputs": [
    {
     "name": "stdout",
     "output_type": "stream",
     "text": [
      "a\n",
      "b\n",
      "c\n",
      "d\n"
     ]
    }
   ],
   "source": [
    "dic = {\"a\":1, \"b\":2, \"c\":3, \"d\":4}\n",
    "\n",
    "for key in dic.keys():\n",
    "    print(key)"
   ]
  },
  {
   "cell_type": "code",
   "execution_count": 22,
   "id": "bbb804c3-7cab-4d22-876f-b737cfa74c4c",
   "metadata": {},
   "outputs": [
    {
     "name": "stdout",
     "output_type": "stream",
     "text": [
      "1\n",
      "2\n",
      "3\n",
      "4\n"
     ]
    }
   ],
   "source": [
    "for value in dic.values():\n",
    "    print(value)"
   ]
  },
  {
   "cell_type": "code",
   "execution_count": 23,
   "id": "dfb961af-f172-492a-8fe5-2e46cd0645b5",
   "metadata": {},
   "outputs": [
    {
     "name": "stdout",
     "output_type": "stream",
     "text": [
      "a : 1\n",
      "b : 2\n",
      "c : 3\n",
      "d : 4\n"
     ]
    }
   ],
   "source": [
    "for key, value in dic.items():\n",
    "    print(key, \":\", value)"
   ]
  },
  {
   "cell_type": "markdown",
   "id": "06639645-0801-4549-a4cc-ed346d5679ef",
   "metadata": {},
   "source": [
    ">-----"
   ]
  },
  {
   "cell_type": "code",
   "execution_count": 24,
   "id": "9aeed38f-81f6-4177-8931-d43ff2a724b6",
   "metadata": {},
   "outputs": [],
   "source": [
    "lst = ['alpha', 'bravo', 'charlie', 'delta', 'echo']"
   ]
  },
  {
   "cell_type": "code",
   "execution_count": 26,
   "id": "59050779-c205-4982-9877-8e05d907bdcc",
   "metadata": {},
   "outputs": [
    {
     "name": "stdout",
     "output_type": "stream",
     "text": [
      "a\n",
      "b\n",
      "c\n",
      "d\n",
      "e\n"
     ]
    }
   ],
   "source": [
    "for i in lst:\n",
    "    print (i[:1])"
   ]
  },
  {
   "cell_type": "code",
   "execution_count": 28,
   "id": "8be1a5ea-664f-4645-8795-fd23b93382dc",
   "metadata": {},
   "outputs": [
    {
     "name": "stdout",
     "output_type": "stream",
     "text": [
      "alpha\n",
      "charlie\n",
      "echo\n"
     ]
    }
   ],
   "source": [
    "for i in range(0, len(lst), 2):\n",
    "    print(lst[i])"
   ]
  },
  {
   "cell_type": "code",
   "execution_count": null,
   "id": "a5232140-df62-4cef-9c67-5334499c80f8",
   "metadata": {},
   "outputs": [],
   "source": []
  }
 ],
 "metadata": {
  "kernelspec": {
   "display_name": "Python 3 (ipykernel)",
   "language": "python",
   "name": "python3"
  },
  "language_info": {
   "codemirror_mode": {
    "name": "ipython",
    "version": 3
   },
   "file_extension": ".py",
   "mimetype": "text/x-python",
   "name": "python",
   "nbconvert_exporter": "python",
   "pygments_lexer": "ipython3",
   "version": "3.9.6"
  }
 },
 "nbformat": 4,
 "nbformat_minor": 5
}
