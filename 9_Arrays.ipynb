{
 "cells": [
  {
   "cell_type": "markdown",
   "id": "17396637-95bf-4768-9dd6-ff6b3453e9a8",
   "metadata": {},
   "source": [
    "## Arrays"
   ]
  },
  {
   "cell_type": "markdown",
   "id": "4b2737f8-bf2c-411d-9975-f53cb09232c3",
   "metadata": {},
   "source": [
    ">To use array we need to import standard array module, because array is not a fundamental data type like integer, string etc. \\\n",
    ">It is like list but having same data type."
   ]
  },
  {
   "cell_type": "markdown",
   "id": "a644b4fe-dd9a-4fdb-a6f3-d83bb3a5f13f",
   "metadata": {},
   "source": [
    "`arrayIdentifierName = array(typecode, [Initializers])`"
   ]
  },
  {
   "cell_type": "markdown",
   "id": "2fc5ca6c-1bef-4d5d-8e0a-5bc622da5b51",
   "metadata": {},
   "source": [
    "| Parameter  | Type              | Minimum size in byte\n",
    "| ---------- | ----------------- | ---------------------\n",
    "| b          | int               | 1 \n",
    "| B          | int               | 1\n",
    "| u          | Unicode character | 2\n",
    "| h          | int               | 2\n",
    "| H          | int               | 2\n",
    "| i          | int               | 2\n",
    "| I          | int               | 2\n",
    "| l          | int               | 4\n",
    "| L          | int               | 4\n",
    "| f          | float             | 4\n",
    "| d          | double            | 8\n",
    "| q          |                   | 8\n",
    "| Q          "
   ]
  },
  {
   "cell_type": "code",
   "execution_count": 1,
   "id": "5efe93b4-efbe-4fd6-8b4c-caebdaf0c972",
   "metadata": {},
   "outputs": [
    {
     "name": "stdout",
     "output_type": "stream",
     "text": [
      "1\n",
      "2\n",
      "3\n",
      "4\n",
      "5\n"
     ]
    }
   ],
   "source": [
    "from array import *\n",
    "my_arr = array('i', [1, 2, 3, 4, 5])\n",
    "\n",
    "for i in my_arr:\n",
    "    print(i)"
   ]
  },
  {
   "cell_type": "code",
   "execution_count": 8,
   "id": "96b58542-1b57-4aa7-9bbd-df5d4b817dec",
   "metadata": {},
   "outputs": [
    {
     "name": "stdout",
     "output_type": "stream",
     "text": [
      "1\n",
      "2\n",
      "3\n",
      "4\n",
      "5\n",
      "6\n"
     ]
    }
   ],
   "source": [
    "# Appending  to array\n",
    "\n",
    "my_arr = array('i', [1, 2, 3, 4, 5])\n",
    "\n",
    "my_arr.append(6)\n",
    "for i in my_arr:\n",
    "    print(i)"
   ]
  },
  {
   "cell_type": "code",
   "execution_count": 9,
   "id": "d02b6f93-ab8c-49bc-96c8-b4d90474c554",
   "metadata": {},
   "outputs": [
    {
     "name": "stdout",
     "output_type": "stream",
     "text": [
      "0\n",
      "1\n",
      "2\n",
      "3\n",
      "4\n",
      "5\n"
     ]
    }
   ],
   "source": [
    "# Inserting value in array\n",
    "\n",
    "my_arr = array('i', [1, 2, 3, 4, 5])\n",
    "\n",
    "my_arr.insert(0, 0)\n",
    "for i in my_arr:\n",
    "    print(i)"
   ]
  },
  {
   "cell_type": "code",
   "execution_count": 15,
   "id": "f5b26030-d421-4c83-99d8-aa01a492714e",
   "metadata": {},
   "outputs": [
    {
     "name": "stdout",
     "output_type": "stream",
     "text": [
      "1 2 3 4 5 4 3 2 1 "
     ]
    }
   ],
   "source": [
    "# Extending array\n",
    "\n",
    "my_arr = array('i', [1, 2, 3, 4, 5])\n",
    "new_arr = array('i', [4, 3, 2, 1])\n",
    "\n",
    "my_arr.extend(new_arr)\n",
    "for i in my_arr:\n",
    "    print(i, end=\" \")"
   ]
  },
  {
   "cell_type": "code",
   "execution_count": 16,
   "id": "566c44b7-fb15-4b93-b3b6-e41933ee4b24",
   "metadata": {},
   "outputs": [
    {
     "name": "stdout",
     "output_type": "stream",
     "text": [
      "array('i', [1, 2, 3, 4, 5, 6, 7])\n"
     ]
    }
   ],
   "source": [
    "# Add item from list\n",
    "\n",
    "my_arr = array('i', [1, 2, 3, 4, 5])\n",
    "lst = [6, 7]\n",
    "my_arr.fromlist(lst)\n",
    "print(my_arr)"
   ]
  },
  {
   "cell_type": "code",
   "execution_count": 18,
   "id": "23bd342b-ac6c-42d2-8590-a1e7614fad08",
   "metadata": {},
   "outputs": [
    {
     "name": "stdout",
     "output_type": "stream",
     "text": [
      "array('i', [2, 3, 4, 5])\n"
     ]
    }
   ],
   "source": [
    "# Removing any element\n",
    "\n",
    "my_arr = array('i', [1, 2, 3, 4, 5])\n",
    "my_arr.remove(1)\n",
    "print(my_arr)"
   ]
  },
  {
   "cell_type": "code",
   "execution_count": 19,
   "id": "e45a70fd-1ed7-47dc-b77a-96e665850396",
   "metadata": {},
   "outputs": [
    {
     "name": "stdout",
     "output_type": "stream",
     "text": [
      "array('i', [1, 2, 3, 4])\n"
     ]
    }
   ],
   "source": [
    "# Removing last array element\n",
    "\n",
    "my_arr = array('i', [1, 2, 3, 4, 5])\n",
    "my_arr.pop()\n",
    "print(my_arr)"
   ]
  },
  {
   "cell_type": "code",
   "execution_count": 22,
   "id": "1000d279-2adf-4f7c-b236-72ff3d8299d4",
   "metadata": {},
   "outputs": [
    {
     "name": "stdout",
     "output_type": "stream",
     "text": [
      "3\n"
     ]
    }
   ],
   "source": [
    "# Fetch any element\n",
    "\n",
    "my_arr = array('i', [1, 2, 3, 4, 5])\n",
    "print(my_arr.index(4))"
   ]
  },
  {
   "cell_type": "code",
   "execution_count": 23,
   "id": "36a05ae6-bdbd-44cb-9b00-207f4672e54a",
   "metadata": {},
   "outputs": [
    {
     "name": "stdout",
     "output_type": "stream",
     "text": [
      "array('i', [5, 4, 3, 2, 1])\n"
     ]
    }
   ],
   "source": [
    "# Reverse a array\n",
    "\n",
    "my_arr = array('i', [1, 2, 3, 4, 5])\n",
    "my_arr.reverse()\n",
    "print(my_arr)"
   ]
  },
  {
   "cell_type": "code",
   "execution_count": 24,
   "id": "d86bf407-2f84-453f-98b2-d9d6e74017f9",
   "metadata": {},
   "outputs": [
    {
     "data": {
      "text/plain": [
       "(2509480976432, 5)"
      ]
     },
     "execution_count": 24,
     "metadata": {},
     "output_type": "execute_result"
    }
   ],
   "source": [
    "# Get array buffer information\n",
    "\n",
    "my_arr = array('i', [1, 2, 3, 4, 5])\n",
    "my_arr.buffer_info()"
   ]
  },
  {
   "cell_type": "code",
   "execution_count": 25,
   "id": "d0a67d38-6859-45aa-99a7-3032fa019a8a",
   "metadata": {},
   "outputs": [
    {
     "data": {
      "text/plain": [
       "2"
      ]
     },
     "execution_count": 25,
     "metadata": {},
     "output_type": "execute_result"
    }
   ],
   "source": [
    "# Check for number of occurence ofan element\n",
    "\n",
    "my_arr = array('i', [1, 2, 3, 1, 5])\n",
    "my_arr.count(1)"
   ]
  },
  {
   "cell_type": "code",
   "execution_count": 37,
   "id": "cbb0cb81-0a5d-4b00-89f2-535a3cc2d15b",
   "metadata": {},
   "outputs": [
    {
     "name": "stdout",
     "output_type": "stream",
     "text": [
      "[1, 2, 3, 4]\n"
     ]
    }
   ],
   "source": [
    "# Convert array to list\n",
    "\n",
    "my_arr = array('i', [1, 2, 3, 4])\n",
    "print(my_arr.tolist())"
   ]
  },
  {
   "cell_type": "markdown",
   "id": "ecdbd89e-1099-4b94-9b64-a23379fa7ad2",
   "metadata": {},
   "source": [
    "### Multidimensional array"
   ]
  },
  {
   "cell_type": "code",
   "execution_count": 40,
   "id": "786e41a5-ede2-4ccc-868d-68274ee69cac",
   "metadata": {},
   "outputs": [
    {
     "name": "stdout",
     "output_type": "stream",
     "text": [
      "[[1, 2, 3], [1, 1, 1], [5, 6, 7]]\n"
     ]
    }
   ],
   "source": [
    "# Lists in lists\n",
    "\n",
    "lst = [[1, 2, 3], [1, 1, 1], [5, 6, 7]]\n",
    "print(lst)"
   ]
  },
  {
   "cell_type": "code",
   "execution_count": 41,
   "id": "43c04100-b4b1-4959-a3e3-51f2d9b73ab8",
   "metadata": {},
   "outputs": [
    {
     "name": "stdout",
     "output_type": "stream",
     "text": [
      "[1, 2, 3]\n"
     ]
    }
   ],
   "source": [
    "print(lst[0])"
   ]
  },
  {
   "cell_type": "code",
   "execution_count": 42,
   "id": "665f0a60-0eb7-4e1b-a8bc-634ac31da653",
   "metadata": {},
   "outputs": [
    {
     "name": "stdout",
     "output_type": "stream",
     "text": [
      "2\n"
     ]
    }
   ],
   "source": [
    "print(lst[0][1])"
   ]
  },
  {
   "cell_type": "code",
   "execution_count": 43,
   "id": "3630c0e6-8da7-459d-86a0-608c88d0c296",
   "metadata": {},
   "outputs": [
    {
     "data": {
      "text/plain": [
       "1"
      ]
     },
     "execution_count": 43,
     "metadata": {},
     "output_type": "execute_result"
    }
   ],
   "source": [
    "lst[1][1]"
   ]
  },
  {
   "cell_type": "code",
   "execution_count": 44,
   "id": "984e5abc-1d4c-4165-9e2b-97edc184aa5e",
   "metadata": {},
   "outputs": [
    {
     "data": {
      "text/plain": [
       "[[[1, 2, 3], [1, 1, 1], [2, 2, 2]],\n",
       " [[3, 3, 3], [4, 4, 4], [5, 5, 5]],\n",
       " [[6, 6, 6], [9, 9, 9], [0, 0, 0]]]"
      ]
     },
     "execution_count": 44,
     "metadata": {},
     "output_type": "execute_result"
    }
   ],
   "source": [
    "lists = [[[1, 2, 3], [1, 1, 1], [2, 2, 2]], \\\n",
    "        [[3, 3, 3], [4, 4, 4], [5, 5, 5]], \\\n",
    "        [[6, 6, 6], [9, 9, 9], [0, 0, 0]]]\n",
    "lists"
   ]
  },
  {
   "cell_type": "code",
   "execution_count": 45,
   "id": "8e510519-ed1c-4480-909e-f95e156228f1",
   "metadata": {},
   "outputs": [
    {
     "data": {
      "text/plain": [
       "[[3, 3, 3], [4, 4, 4], [5, 5, 5]]"
      ]
     },
     "execution_count": 45,
     "metadata": {},
     "output_type": "execute_result"
    }
   ],
   "source": [
    "lists[1]"
   ]
  },
  {
   "cell_type": "code",
   "execution_count": 46,
   "id": "c2989467-4744-4f55-a405-a12b8b7e1e97",
   "metadata": {},
   "outputs": [
    {
     "data": {
      "text/plain": [
       "[4, 4, 4]"
      ]
     },
     "execution_count": 46,
     "metadata": {},
     "output_type": "execute_result"
    }
   ],
   "source": [
    "lists[1][1]"
   ]
  },
  {
   "cell_type": "code",
   "execution_count": 47,
   "id": "ccda03d9-216f-46c0-8985-7106f806a1c4",
   "metadata": {},
   "outputs": [
    {
     "data": {
      "text/plain": [
       "4"
      ]
     },
     "execution_count": 47,
     "metadata": {},
     "output_type": "execute_result"
    }
   ],
   "source": [
    "lists[1][1][1]"
   ]
  }
 ],
 "metadata": {
  "kernelspec": {
   "display_name": "Python 3 (ipykernel)",
   "language": "python",
   "name": "python3"
  },
  "language_info": {
   "codemirror_mode": {
    "name": "ipython",
    "version": 3
   },
   "file_extension": ".py",
   "mimetype": "text/x-python",
   "name": "python",
   "nbconvert_exporter": "python",
   "pygments_lexer": "ipython3",
   "version": "3.9.7"
  }
 },
 "nbformat": 4,
 "nbformat_minor": 5
}
