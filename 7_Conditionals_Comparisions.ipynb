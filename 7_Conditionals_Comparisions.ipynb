{
 "cells": [
  {
   "cell_type": "markdown",
   "id": "3d6d5826-c7c9-42bb-a8d7-0ff6683b256d",
   "metadata": {},
   "source": [
    "## Conditionals statements"
   ]
  },
  {
   "cell_type": "markdown",
   "id": "2a2d188c-6de1-485c-a595-09af9f7e6264",
   "metadata": {},
   "source": [
    ">Conditional expression"
   ]
  },
  {
   "cell_type": "code",
   "execution_count": 3,
   "id": "3774d9ab-f875-4b3a-85b7-2dcf911d4a55",
   "metadata": {},
   "outputs": [
    {
     "data": {
      "text/plain": [
       "True"
      ]
     },
     "execution_count": 3,
     "metadata": {},
     "output_type": "execute_result"
    }
   ],
   "source": [
    "n = 4\n",
    "True if n > 2 else False"
   ]
  },
  {
   "cell_type": "code",
   "execution_count": 4,
   "id": "44c177c5-521e-4ce4-92cb-9984357e422a",
   "metadata": {},
   "outputs": [
    {
     "data": {
      "text/plain": [
       "'Hi'"
      ]
     },
     "execution_count": 4,
     "metadata": {},
     "output_type": "execute_result"
    }
   ],
   "source": [
    "p = 10\n",
    "\n",
    "\"Hello\" if p > 10 else \"Hi\" if p > 5 else \"Leave it\""
   ]
  },
  {
   "cell_type": "markdown",
   "id": "59419553-b1fa-478a-9f63-12f645101533",
   "metadata": {},
   "source": [
    ">if, elif and else"
   ]
  },
  {
   "cell_type": "code",
   "execution_count": 5,
   "id": "225d0b47-0f22-4213-85a8-6a481c0abf8e",
   "metadata": {},
   "outputs": [
    {
     "name": "stdout",
     "output_type": "stream",
     "text": [
      "n is greater than 2\n"
     ]
    }
   ],
   "source": [
    "n = 5\n",
    "\n",
    "if n > 2:\n",
    "    print(\"n is greater than 2\")\n",
    "elif n < 2:\n",
    "    print(\"n is less than 2\")\n",
    "else:\n",
    "    print(\"n is 2\")"
   ]
  },
  {
   "cell_type": "markdown",
   "id": "b345b711-dec5-4051-98d6-ed927b23c04d",
   "metadata": {},
   "source": [
    ">Multiple conditions"
   ]
  },
  {
   "cell_type": "code",
   "execution_count": 6,
   "id": "042e161d-aeba-4f2d-8020-3d482b95be77",
   "metadata": {},
   "outputs": [
    {
     "name": "stdout",
     "output_type": "stream",
     "text": [
      "Positive\n"
     ]
    }
   ],
   "source": [
    "a = 1\n",
    "b = 2\n",
    "if a > 0 and b > 0:\n",
    "    print(\"Positive\")\n",
    "else:\n",
    "    print(\"Non Positive\")"
   ]
  },
  {
   "cell_type": "code",
   "execution_count": 7,
   "id": "da636f16-4b61-4b68-9e57-c8ed760a3ef5",
   "metadata": {},
   "outputs": [
    {
     "name": "stdout",
     "output_type": "stream",
     "text": [
      "yes\n"
     ]
    }
   ],
   "source": [
    "p = 3\n",
    "q = 4\n",
    "\n",
    "if  p==4 or q > 3:\n",
    "    print(\"yes\")\n",
    "else:\n",
    "    print(\"no\")"
   ]
  },
  {
   "cell_type": "code",
   "execution_count": 8,
   "id": "7b8da573-7789-4ac1-8f47-c1b98514efa7",
   "metadata": {},
   "outputs": [
    {
     "name": "stdout",
     "output_type": "stream",
     "text": [
      "2021-09-14\n"
     ]
    }
   ],
   "source": [
    "import datetime\n",
    "dat = None\n",
    "if dat is None:\n",
    "    dat = datetime.date.today()\n",
    "print(dat)"
   ]
  },
  {
   "cell_type": "markdown",
   "id": "adedeebd-0310-49eb-b5a3-b825a9f8b498",
   "metadata": {},
   "source": [
    "## Comparisions"
   ]
  },
  {
   "cell_type": "code",
   "execution_count": 10,
   "id": "65cc57c0-7396-4ac5-b7b4-5262ef086610",
   "metadata": {},
   "outputs": [
    {
     "data": {
      "text/plain": [
       "True"
      ]
     },
     "execution_count": 10,
     "metadata": {},
     "output_type": "execute_result"
    }
   ],
   "source": [
    "x = 2\n",
    "y = 3\n",
    "z = 4\n",
    "z > y > x"
   ]
  },
  {
   "cell_type": "code",
   "execution_count": 11,
   "id": "f5d83cd0-0739-435b-b1e0-be3f33007610",
   "metadata": {},
   "outputs": [
    {
     "data": {
      "text/plain": [
       "False"
      ]
     },
     "execution_count": 11,
     "metadata": {},
     "output_type": "execute_result"
    }
   ],
   "source": [
    "y == z"
   ]
  },
  {
   "cell_type": "code",
   "execution_count": 12,
   "id": "b6fe6ee1-b028-4077-85e9-ddcce7263d93",
   "metadata": {},
   "outputs": [
    {
     "data": {
      "text/plain": [
       "False"
      ]
     },
     "execution_count": 12,
     "metadata": {},
     "output_type": "execute_result"
    }
   ],
   "source": [
    "y is z"
   ]
  },
  {
   "cell_type": "code",
   "execution_count": 13,
   "id": "0a63f2a5-d68a-498e-a777-1ec5fbecdf8a",
   "metadata": {},
   "outputs": [],
   "source": [
    "a = \"hello\"\n",
    "b = \"hello world\""
   ]
  },
  {
   "cell_type": "code",
   "execution_count": 14,
   "id": "645c780d-ec7f-4af9-8c6b-5baa5f397f6b",
   "metadata": {},
   "outputs": [
    {
     "data": {
      "text/plain": [
       "False"
      ]
     },
     "execution_count": 14,
     "metadata": {},
     "output_type": "execute_result"
    }
   ],
   "source": [
    "a is b"
   ]
  },
  {
   "cell_type": "code",
   "execution_count": 19,
   "id": "83eb55ae-d1cc-4f4b-b886-c755a89da9b3",
   "metadata": {},
   "outputs": [
    {
     "data": {
      "text/plain": [
       "True"
      ]
     },
     "execution_count": 19,
     "metadata": {},
     "output_type": "execute_result"
    }
   ],
   "source": [
    "a == b[0:5]"
   ]
  },
  {
   "cell_type": "code",
   "execution_count": 20,
   "id": "5355d206-3d32-4b94-ae9c-32d5095a5f4f",
   "metadata": {},
   "outputs": [
    {
     "data": {
      "text/plain": [
       "False"
      ]
     },
     "execution_count": 20,
     "metadata": {},
     "output_type": "execute_result"
    }
   ],
   "source": [
    "a > b"
   ]
  },
  {
   "cell_type": "code",
   "execution_count": 21,
   "id": "7ce6a1e0-428e-4429-b3a8-a86ad7779d1c",
   "metadata": {},
   "outputs": [
    {
     "data": {
      "text/plain": [
       "True"
      ]
     },
     "execution_count": 21,
     "metadata": {},
     "output_type": "execute_result"
    }
   ],
   "source": [
    "b > a"
   ]
  },
  {
   "cell_type": "code",
   "execution_count": 22,
   "id": "79c2a9e8-b9d5-40db-a6b7-22ff742bcb19",
   "metadata": {},
   "outputs": [
    {
     "data": {
      "text/plain": [
       "True"
      ]
     },
     "execution_count": 22,
     "metadata": {},
     "output_type": "execute_result"
    }
   ],
   "source": [
    "a != b"
   ]
  },
  {
   "cell_type": "code",
   "execution_count": 23,
   "id": "90d63647-43c8-4b33-bba8-e7fc082cf3bd",
   "metadata": {},
   "outputs": [
    {
     "data": {
      "text/plain": [
       "False"
      ]
     },
     "execution_count": 23,
     "metadata": {},
     "output_type": "execute_result"
    }
   ],
   "source": [
    "a == b"
   ]
  },
  {
   "cell_type": "code",
   "execution_count": 25,
   "id": "ee26555f-7681-4997-b02d-f94b5d0885a4",
   "metadata": {},
   "outputs": [],
   "source": [
    "class Test(object):\n",
    "    def __init__(self, item):\n",
    "        self.my_item = item\n",
    "        \n",
    "    def __eq__(self, other):\n",
    "        return self.my_item == other.my_item\n",
    "    \n",
    "a = Test(5)\n",
    "b = Test(5)"
   ]
  },
  {
   "cell_type": "code",
   "execution_count": 26,
   "id": "0a024cd4-61d9-4797-9a92-7b95fc09f814",
   "metadata": {},
   "outputs": [
    {
     "data": {
      "text/plain": [
       "True"
      ]
     },
     "execution_count": 26,
     "metadata": {},
     "output_type": "execute_result"
    }
   ],
   "source": [
    "a == b"
   ]
  },
  {
   "cell_type": "code",
   "execution_count": 27,
   "id": "2aac4ce1-48aa-4486-a0f7-1f41f1f48a2a",
   "metadata": {},
   "outputs": [
    {
     "data": {
      "text/plain": [
       "False"
      ]
     },
     "execution_count": 27,
     "metadata": {},
     "output_type": "execute_result"
    }
   ],
   "source": [
    "a != b"
   ]
  },
  {
   "cell_type": "code",
   "execution_count": 28,
   "id": "2125c9ac-9523-4cc4-bc9e-22362ac154ba",
   "metadata": {},
   "outputs": [
    {
     "data": {
      "text/plain": [
       "False"
      ]
     },
     "execution_count": 28,
     "metadata": {},
     "output_type": "execute_result"
    }
   ],
   "source": [
    "a is b"
   ]
  },
  {
   "cell_type": "code",
   "execution_count": null,
   "id": "e91c61a8-5b45-44f0-b80d-f3239e05d9b4",
   "metadata": {},
   "outputs": [],
   "source": []
  }
 ],
 "metadata": {
  "kernelspec": {
   "display_name": "Python 3 (ipykernel)",
   "language": "python",
   "name": "python3"
  },
  "language_info": {
   "codemirror_mode": {
    "name": "ipython",
    "version": 3
   },
   "file_extension": ".py",
   "mimetype": "text/x-python",
   "name": "python",
   "nbconvert_exporter": "python",
   "pygments_lexer": "ipython3",
   "version": "3.9.6"
  }
 },
 "nbformat": 4,
 "nbformat_minor": 5
}
