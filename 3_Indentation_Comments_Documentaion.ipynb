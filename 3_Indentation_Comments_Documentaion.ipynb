{
 "cells": [
  {
   "cell_type": "markdown",
   "id": "1ce7d425-83a5-4929-917a-1edf5f91492d",
   "metadata": {},
   "source": [
    "#### Indentation\n"
   ]
  },
  {
   "cell_type": "markdown",
   "id": "4cc848db-73f4-4c8c-a543-40dfb0934fa2",
   "metadata": {},
   "source": [
    "We use indentation in condition statement, looping, class, function ets\n",
    "whenever `:` comes in ode then we use indentation of one tab or four spaces\n",
    "Otherwise IndentationError raises\n",
    "When INDENT apear DEDENT need to go back in initial position."
   ]
  },
  {
   "cell_type": "code",
   "execution_count": 27,
   "id": "01129722-cca7-48f1-8a65-46b2d2727f63",
   "metadata": {},
   "outputs": [
    {
     "name": "stdout",
     "output_type": "stream",
     "text": [
      "example\n",
      "True\n"
     ]
    }
   ],
   "source": [
    "class Example:\n",
    "    def __init__(self):\n",
    "        self.name = \"example\"\n",
    "        \n",
    "    def fun(self, a):\n",
    "        if a > 5:\n",
    "            return True\n",
    "        else:\n",
    "            return False\n",
    "obj = Example()\n",
    "print(obj.name)\n",
    "print(obj.fun(6))"
   ]
  },
  {
   "cell_type": "markdown",
   "id": "4ee6fc8e-52a7-469a-888a-13c53bd0f091",
   "metadata": {},
   "source": [
    "#### Comments"
   ]
  },
  {
   "cell_type": "markdown",
   "id": "5bea9034-b8bb-4262-91f6-04bf3026ac76",
   "metadata": {},
   "source": [
    ">single line comments"
   ]
  },
  {
   "cell_type": "code",
   "execution_count": 29,
   "id": "69467759-7107-4434-996f-0e211444fe83",
   "metadata": {},
   "outputs": [
    {
     "name": "stdout",
     "output_type": "stream",
     "text": [
      "Hello World\n"
     ]
    }
   ],
   "source": [
    "# printing Hello World\n",
    "print(\"Hello World\")  "
   ]
  },
  {
   "cell_type": "markdown",
   "id": "50bba5c7-e4fa-4a07-b972-319b3b7c947d",
   "metadata": {},
   "source": [
    ">Inline comments"
   ]
  },
  {
   "cell_type": "code",
   "execution_count": 30,
   "id": "15c8dc23-4b87-4939-8a67-684e7304036c",
   "metadata": {},
   "outputs": [
    {
     "name": "stdout",
     "output_type": "stream",
     "text": [
      "I am more than enough\n"
     ]
    }
   ],
   "source": [
    "print(\"I am more than enough\")\t# This is inline cmnt"
   ]
  },
  {
   "cell_type": "markdown",
   "id": "e017d25c-d109-4418-bd1e-b0251900ede9",
   "metadata": {},
   "source": [
    ">Multiple line comments"
   ]
  },
  {
   "cell_type": "code",
   "execution_count": 32,
   "id": "77abdfbb-4933-463f-a4c8-20ea9d0958e7",
   "metadata": {},
   "outputs": [
    {
     "name": "stdin",
     "output_type": "stream",
     "text": [
      "Can I have your name please?  bishal poudel\n"
     ]
    },
    {
     "name": "stdout",
     "output_type": "stream",
     "text": [
      "Hello, bishal poudel\n"
     ]
    }
   ],
   "source": [
    "\"\"\"\n",
    "This program ask user for name and\n",
    "greets the user.\n",
    "\"\"\"\n",
    "name = input(\"Can I have your name please? \")\n",
    "print(f\"Hello, {name}\")"
   ]
  },
  {
   "cell_type": "markdown",
   "id": "a9fc0592-eb06-46c9-ab4a-369ddc0fb85f",
   "metadata": {},
   "source": [
    "*Accessing docstring*"
   ]
  },
  {
   "cell_type": "code",
   "execution_count": 37,
   "id": "af61b614-60c2-459f-9472-b4115fcdef34",
   "metadata": {},
   "outputs": [],
   "source": [
    "def fun():\n",
    "    \"\"\" This is for nothing to do \"\"\"\n",
    "    return 0"
   ]
  },
  {
   "cell_type": "code",
   "execution_count": 38,
   "id": "ec8afb51-8482-4462-910a-2ade7e430a91",
   "metadata": {},
   "outputs": [
    {
     "name": "stdout",
     "output_type": "stream",
     "text": [
      " This is for nothing to do \n"
     ]
    }
   ],
   "source": [
    "print(fun.__doc__)"
   ]
  },
  {
   "cell_type": "code",
   "execution_count": 39,
   "id": "ee09963a-cfa5-4082-a774-6d8b34ebdbcf",
   "metadata": {},
   "outputs": [
    {
     "name": "stdout",
     "output_type": "stream",
     "text": [
      "Help on function fun in module __main__:\n",
      "\n",
      "fun()\n",
      "    This is for nothing to do\n",
      "\n"
     ]
    }
   ],
   "source": [
    "help(fun)"
   ]
  },
  {
   "cell_type": "markdown",
   "id": "c3ec88e7-a3f1-4836-b4f7-5b9102e5481c",
   "metadata": {},
   "source": [
    "#### Documentation using docstring"
   ]
  },
  {
   "cell_type": "markdown",
   "id": "8c0d27ad-76d1-4a0f-8820-4a25b13ffff2",
   "metadata": {},
   "source": [
    "It is just a multiline comments"
   ]
  },
  {
   "cell_type": "code",
   "execution_count": 41,
   "id": "4a45a526-23f7-4a71-a6c6-3575859ee89a",
   "metadata": {},
   "outputs": [
    {
     "name": "stdout",
     "output_type": "stream",
     "text": [
      "Hello Worlds\n"
     ]
    }
   ],
   "source": [
    "def hello(name):\n",
    "    \"\"\"\n",
    "    Greet someone.\n",
    "    prints hello and the name of user that given\n",
    "     \"\"\"\n",
    "    print(\"Hello {}\".format(name))\n",
    "\n",
    "hello(\"Worlds\")"
   ]
  },
  {
   "cell_type": "markdown",
   "id": "cbad1796-7e1a-4513-9914-392fa1670461",
   "metadata": {},
   "source": [
    "#### Syntax conventions \n",
    "* PEP 257\n",
    "* Sphinx\n",
    "* Google python style guide\n",
    ">We need to write neat and clean code and proper documentation and comments in the code"
   ]
  },
  {
   "cell_type": "code",
   "execution_count": null,
   "id": "464c8d48-aadd-450c-b18f-16886518ff21",
   "metadata": {},
   "outputs": [],
   "source": []
  }
 ],
 "metadata": {
  "kernelspec": {
   "display_name": "Python 3 (ipykernel)",
   "language": "python",
   "name": "python3"
  },
  "language_info": {
   "codemirror_mode": {
    "name": "ipython",
    "version": 3
   },
   "file_extension": ".py",
   "mimetype": "text/x-python",
   "name": "python",
   "nbconvert_exporter": "python",
   "pygments_lexer": "ipython3",
   "version": "3.9.6"
  }
 },
 "nbformat": 4,
 "nbformat_minor": 5
}
