{
 "cells": [
  {
   "cell_type": "markdown",
   "id": "f31f5679-2357-4337-ae01-0df1e0598464",
   "metadata": {},
   "source": [
    "## Introduction to dictionary"
   ]
  },
  {
   "cell_type": "markdown",
   "id": "452c7c93-f9a6-4acb-8161-0f4ed1da88c7",
   "metadata": {},
   "source": [
    ">It is an example of a key value store also known as Mapping in Python."
   ]
  },
  {
   "cell_type": "code",
   "execution_count": 1,
   "id": "84b15107-f2e2-43e9-b329-128881428840",
   "metadata": {},
   "outputs": [],
   "source": [
    "# Literal syntax\n",
    "\n",
    "d = {}  # empty dict\n",
    "d = {'key': 'value'}  # dict with initial values"
   ]
  },
  {
   "cell_type": "code",
   "execution_count": 2,
   "id": "878ed270-af43-4288-9942-538dd2134092",
   "metadata": {},
   "outputs": [],
   "source": [
    "# dict comprehension\n",
    "\n",
    "d = {k:v for k, v in [('key', 'value',)]}"
   ]
  },
  {
   "cell_type": "code",
   "execution_count": 5,
   "id": "140deb6f-b896-46a3-9bfd-d99b2455c093",
   "metadata": {},
   "outputs": [
    {
     "data": {
      "text/plain": [
       "'d = dict(**otherdict)'"
      ]
     },
     "execution_count": 5,
     "metadata": {},
     "output_type": "execute_result"
    }
   ],
   "source": [
    "# built-in class dict\n",
    "\n",
    "d = dict()  # empty dict\n",
    "d = dict(key='value')  # explicit keyword arguments\n",
    "d = dict([('key', 'value')])  # pasing in a list of key/value pairs\n",
    "\"\"\"d = dict(**otherdict)\"\"\"  # shallow copy of another dict (if keys are only strings)"
   ]
  },
  {
   "cell_type": "code",
   "execution_count": 6,
   "id": "3bf52e67-d8db-401a-9577-43e0ed065a1a",
   "metadata": {},
   "outputs": [
    {
     "name": "stdout",
     "output_type": "stream",
     "text": [
      "{}\n"
     ]
    }
   ],
   "source": [
    "mydict = {}\n",
    "print(mydict)"
   ]
  },
  {
   "cell_type": "code",
   "execution_count": 10,
   "id": "b1e3f271-1568-41c0-807e-1c5422bafbc9",
   "metadata": {},
   "outputs": [
    {
     "name": "stdout",
     "output_type": "stream",
     "text": [
      "bar\n"
     ]
    }
   ],
   "source": [
    "print(mydict.get(\"foo\", \"bar\"))"
   ]
  },
  {
   "cell_type": "code",
   "execution_count": 11,
   "id": "0d1a9b1c-131d-4951-82a0-dcd8260fbf57",
   "metadata": {},
   "outputs": [
    {
     "name": "stdout",
     "output_type": "stream",
     "text": [
      "bar\n"
     ]
    }
   ],
   "source": [
    "print(mydict.setdefault(\"foo\", \"bar\"))"
   ]
  },
  {
   "cell_type": "code",
   "execution_count": 12,
   "id": "c75bbb1c-1e34-4f44-b5dd-10670c018dcd",
   "metadata": {},
   "outputs": [],
   "source": [
    "# Deal with exception\n",
    "\n",
    "try:\n",
    "    value = mydict[key]\n",
    "except KeyError:\n",
    "    value = default_value"
   ]
  },
  {
   "cell_type": "code",
   "execution_count": null,
   "id": "1a5e6311-4f79-447e-a9c5-1d34a3f43e27",
   "metadata": {},
   "outputs": [],
   "source": [
    "# Check if key in dictionary\n",
    "\n",
    "if key in mydict:\n",
    "    value = mydict[key]\n",
    "else:\n",
    "    value = default_value"
   ]
  },
  {
   "cell_type": "code",
   "execution_count": 13,
   "id": "f11da8de-fd87-4242-bc28-823b44b01eff",
   "metadata": {},
   "outputs": [
    {
     "name": "stdout",
     "output_type": "stream",
     "text": [
      "a 1\n",
      "b 2\n",
      "c 3\n"
     ]
    }
   ],
   "source": [
    "# Iterating over dictionary\n",
    "\n",
    "d = {'a': 1, 'b': 2, 'c': 3}\n",
    "for key in d:\n",
    "    print(key, d[key])"
   ]
  },
  {
   "cell_type": "code",
   "execution_count": 15,
   "id": "bc94e0e7-db32-44e7-a303-96a36324cec7",
   "metadata": {},
   "outputs": [
    {
     "name": "stdout",
     "output_type": "stream",
     "text": [
      "['a', 'b', 'c']\n"
     ]
    }
   ],
   "source": [
    "print([key for key in d])"
   ]
  },
  {
   "cell_type": "code",
   "execution_count": 16,
   "id": "62d02956-7454-462c-871f-9f39fea575a8",
   "metadata": {},
   "outputs": [
    {
     "name": "stdout",
     "output_type": "stream",
     "text": [
      "a 1\n",
      "b 2\n",
      "c 3\n"
     ]
    }
   ],
   "source": [
    "for key, value in d.items():\n",
    "    print(key, value)"
   ]
  },
  {
   "cell_type": "code",
   "execution_count": 19,
   "id": "e497543c-3d4b-43e4-9072-9e36e5afeba2",
   "metadata": {},
   "outputs": [
    {
     "name": "stdout",
     "output_type": "stream",
     "text": [
      "a 1\n",
      "b 2\n",
      "c 3\n"
     ]
    }
   ],
   "source": [
    "d = {'a': 1, 'b': 2, 'c': 3}\n",
    "for key, value in d.items():\n",
    "    print(key, value)"
   ]
  },
  {
   "cell_type": "code",
   "execution_count": 1,
   "id": "7a2309e3-7a7e-43cd-8477-75e3d05b4dd1",
   "metadata": {},
   "outputs": [
    {
     "data": {
      "text/plain": [
       "0"
      ]
     },
     "execution_count": 1,
     "metadata": {},
     "output_type": "execute_result"
    }
   ],
   "source": [
    "# Dictionary with default value\n",
    "\n",
    "from collections import defaultdict\n",
    "d = defaultdict(int)\n",
    "d['key']"
   ]
  },
  {
   "cell_type": "code",
   "execution_count": 3,
   "id": "080dd675-6cde-4e73-b691-f00440f7b695",
   "metadata": {},
   "outputs": [
    {
     "data": {
      "text/plain": [
       "5"
      ]
     },
     "execution_count": 3,
     "metadata": {},
     "output_type": "execute_result"
    }
   ],
   "source": [
    "d['key'] = 5\n",
    "d['key']"
   ]
  },
  {
   "cell_type": "code",
   "execution_count": 4,
   "id": "7d3d07da-257e-4bd8-a25d-cdf99c9c3b56",
   "metadata": {},
   "outputs": [
    {
     "data": {
      "text/plain": [
       "'empty'"
      ]
     },
     "execution_count": 4,
     "metadata": {},
     "output_type": "execute_result"
    }
   ],
   "source": [
    "d = defaultdict(lambda: 'empty')\n",
    "d['key']"
   ]
  },
  {
   "cell_type": "code",
   "execution_count": 5,
   "id": "7eddd3f0-7a9f-40ac-b137-390cdca050b2",
   "metadata": {},
   "outputs": [
    {
     "data": {
      "text/plain": [
       "'full'"
      ]
     },
     "execution_count": 5,
     "metadata": {},
     "output_type": "execute_result"
    }
   ],
   "source": [
    "d['key'] = 'full'\n",
    "d['key']"
   ]
  },
  {
   "cell_type": "code",
   "execution_count": 6,
   "id": "a2c7daa8-e25f-494a-8a34-aae422d4039e",
   "metadata": {},
   "outputs": [
    {
     "data": {
      "text/plain": [
       "{'name': 'Clifford', 'hands': 'paws', 'special': 'gills', 'colour': 'red'}"
      ]
     },
     "execution_count": 6,
     "metadata": {},
     "output_type": "execute_result"
    }
   ],
   "source": [
    "# Merging dictionaries\n",
    "\n",
    "fish = {'name': \"Nemo\", \"hands\": \"fins\", \"special\": \"gills\"}\n",
    "dog = {\"name\": \"Clifford\", \"hands\": \"paws\", \"colour\": \"red\"}\n",
    "\n",
    "fishdog = {**fish, **dog}\n",
    "fishdog"
   ]
  },
  {
   "cell_type": "code",
   "execution_count": 7,
   "id": "47df21f6-235e-46f9-8655-007b3496316a",
   "metadata": {},
   "outputs": [
    {
     "data": {
      "text/plain": [
       "{'name': 'Clifford', 'hands': 'paws', 'special': 'gills', 'colour': 'red'}"
      ]
     },
     "execution_count": 7,
     "metadata": {},
     "output_type": "execute_result"
    }
   ],
   "source": [
    "fish.update(dog)\n",
    "fish"
   ]
  },
  {
   "cell_type": "code",
   "execution_count": 8,
   "id": "0ae38cce-3604-4fc6-afd2-db8682213f74",
   "metadata": {},
   "outputs": [
    {
     "data": {
      "text/plain": [
       "{'potatos': 3, 'eggs': 2}"
      ]
     },
     "execution_count": 8,
     "metadata": {},
     "output_type": "execute_result"
    }
   ],
   "source": [
    "# Dictionary creation\n",
    "\n",
    "stock = {\"potatos\": 3, \"eggs\": 2}\n",
    "stock"
   ]
  },
  {
   "cell_type": "code",
   "execution_count": 9,
   "id": "c95ac8ad-8caa-48b7-8452-448ae964e2a5",
   "metadata": {},
   "outputs": [
    {
     "data": {
      "text/plain": [
       "{'milk': 3, 'onion': 4}"
      ]
     },
     "execution_count": 9,
     "metadata": {},
     "output_type": "execute_result"
    }
   ],
   "source": [
    "dictionary = {}\n",
    "dictionary[\"milk\"] = 3\n",
    "dictionary[\"onion\"] = 4\n",
    "dictionary"
   ]
  },
  {
   "cell_type": "code",
   "execution_count": 10,
   "id": "2149af0d-a8a4-4a3a-acd7-9673d85414a5",
   "metadata": {},
   "outputs": [
    {
     "data": {
      "text/plain": [
       "{'a': [1, 2, 3], 'b': ['one', 'two', 'three']}"
      ]
     },
     "execution_count": 10,
     "metadata": {},
     "output_type": "execute_result"
    }
   ],
   "source": [
    "dic = {'a': [1, 2, 3], 'b': ['one', 'two', 'three']}\n",
    "dic"
   ]
  },
  {
   "cell_type": "code",
   "execution_count": 11,
   "id": "91d361a4-4bdd-4c06-85ff-dac367569442",
   "metadata": {},
   "outputs": [
    {
     "data": {
      "text/plain": [
       "{'a': [1, 2, 3, 4], 'b': ['one', 'two', 'three', 'four']}"
      ]
     },
     "execution_count": 11,
     "metadata": {},
     "output_type": "execute_result"
    }
   ],
   "source": [
    "dic['a'].append(4)\n",
    "dic['b'].append('four')\n",
    "dic"
   ]
  },
  {
   "cell_type": "code",
   "execution_count": 12,
   "id": "21db9635-9cdc-470e-b1e6-64fecebd1e6d",
   "metadata": {},
   "outputs": [
    {
     "data": {
      "text/plain": [
       "{'eggs': 4, 'meat': 3}"
      ]
     },
     "execution_count": 12,
     "metadata": {},
     "output_type": "execute_result"
    }
   ],
   "source": [
    "itr = [('eggs', 4), ('meat', 3)]\n",
    "dictionary = dict(itr)\n",
    "dictionary"
   ]
  },
  {
   "cell_type": "code",
   "execution_count": 13,
   "id": "ce1f7c99-9bfd-4371-ad45-114ebeaab456",
   "metadata": {},
   "outputs": [
    {
     "data": {
      "text/plain": [
       "{'milk': 4, 'eggs': 5}"
      ]
     },
     "execution_count": 13,
     "metadata": {},
     "output_type": "execute_result"
    }
   ],
   "source": [
    "dictionary = dict(milk=4, eggs=5)\n",
    "dictionary"
   ]
  },
  {
   "cell_type": "code",
   "execution_count": 17,
   "id": "f2c5c997-6775-4fca-aaeb-bbdd97228b1f",
   "metadata": {},
   "outputs": [
    {
     "name": "stdout",
     "output_type": "stream",
     "text": [
      "one 1\n",
      "two 2\n",
      "three 3\n"
     ]
    }
   ],
   "source": [
    "# Making ordered dictionary\n",
    "\n",
    "from collections import OrderedDict\n",
    "\n",
    "d = OrderedDict()\n",
    "d['one'] = 1\n",
    "d['two'] = 2\n",
    "d['three'] = 3\n",
    "\n",
    "for key in d:\n",
    "    print(key, d[key])"
   ]
  },
  {
   "cell_type": "code",
   "execution_count": 20,
   "id": "4f1bf13e-dfa2-41d1-aecc-8acbddda956f",
   "metadata": {},
   "outputs": [
    {
     "name": "stdout",
     "output_type": "stream",
     "text": [
      "This parrot wouldn't action if you put voltage volts through it. E's state !\n"
     ]
    }
   ],
   "source": [
    "def parrot(voltage, state, action):\n",
    "    print(\"This parrot wouldn't\", action, end=' ')\n",
    "    print(\"if you put\", voltage, \"volts through it.\", end=' ')\n",
    "    print(\"E's\", state, \"!\")\n",
    "d = {\"voltage\": \"four million\",\n",
    "     \"state\": \"bleedin' demised\",\n",
    "     \"action\": \"VOOM\"}\n",
    "parrot(*d)"
   ]
  },
  {
   "cell_type": "code",
   "execution_count": 22,
   "id": "fc671f8f-da30-43f3-a1bd-9805c45c509d",
   "metadata": {},
   "outputs": [
    {
     "name": "stdout",
     "output_type": "stream",
     "text": [
      "[{'x': 'a', 'y': 10}, {'x': 'a', 'y': 20}, {'x': 'a', 'y': 30}, {'x': 'b', 'y': 10}, {'x': 'b', 'y': 20}, {'x': 'b', 'y': 30}]\n"
     ]
    }
   ],
   "source": [
    "import itertools\n",
    "options = {\n",
    "\"x\": [\"a\", \"b\"],\n",
    "\"y\": [10, 20, 30]}\n",
    "\n",
    "keys = options.keys()\n",
    "values = (options[key] for key in keys)\n",
    "combinations = [dict(zip(keys, combination)) for combination in itertools.product(*values)]\n",
    "print (combinations)"
   ]
  },
  {
   "cell_type": "code",
   "execution_count": null,
   "id": "6c4af1f7-c185-4a7f-8af5-b4c2dbfe16fd",
   "metadata": {},
   "outputs": [],
   "source": []
  }
 ],
 "metadata": {
  "kernelspec": {
   "display_name": "Python 3 (ipykernel)",
   "language": "python",
   "name": "python3"
  },
  "language_info": {
   "codemirror_mode": {
    "name": "ipython",
    "version": 3
   },
   "file_extension": ".py",
   "mimetype": "text/x-python",
   "name": "python",
   "nbconvert_exporter": "python",
   "pygments_lexer": "ipython3",
   "version": "3.9.7"
  }
 },
 "nbformat": 4,
 "nbformat_minor": 5
}
