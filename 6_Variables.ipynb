{
 "cells": [
  {
   "cell_type": "markdown",
   "id": "8b88809d-e26b-43f0-a039-b0a69bd29ad7",
   "metadata": {},
   "source": [
    "## Variables"
   ]
  },
  {
   "cell_type": "markdown",
   "id": "411a21a6-0ecc-4a19-8bc9-c1563ec4ac1a",
   "metadata": {},
   "source": [
    ">Nonlocal variables"
   ]
  },
  {
   "cell_type": "code",
   "execution_count": 6,
   "id": "9c86d48b-6a36-4331-9f01-be7a749f2bf0",
   "metadata": {},
   "outputs": [
    {
     "data": {
      "text/plain": [
       "3"
      ]
     },
     "execution_count": 6,
     "metadata": {},
     "output_type": "execute_result"
    }
   ],
   "source": [
    "def counter():\n",
    "    num = 0\n",
    "    def incrementer():\n",
    "        nonlocal num\n",
    "        num += 1\n",
    "        return num\n",
    "    return incrementer\n",
    "\n",
    "c = counter()\n",
    "c()\n",
    "c()\n",
    "c()"
   ]
  },
  {
   "cell_type": "markdown",
   "id": "f8ae5a4a-7733-4e50-aabc-2b87361b8846",
   "metadata": {},
   "source": [
    ">Global variables"
   ]
  },
  {
   "cell_type": "code",
   "execution_count": null,
   "id": "dff03764-1cb4-4f16-94db-32673ce266ae",
   "metadata": {},
   "outputs": [],
   "source": [
    "x = \"I am Original\"  # Global\n",
    "\n",
    "def read():\n",
    "    print(x)\n",
    "read()"
   ]
  },
  {
   "cell_type": "code",
   "execution_count": 14,
   "id": "4728e18a-27c7-4361-a67f-b4093e7a7db3",
   "metadata": {},
   "outputs": [
    {
     "name": "stdout",
     "output_type": "stream",
     "text": [
      "I am Original\n",
      "I am updated\n"
     ]
    }
   ],
   "source": [
    "def update():\n",
    "    x = \"I am updated\"  # Local\n",
    "    print(x)\n",
    "print(x)\n",
    "update()"
   ]
  },
  {
   "cell_type": "markdown",
   "id": "07707733-0545-4eec-aca5-b374e833ecbd",
   "metadata": {},
   "source": [
    ">Local variables"
   ]
  },
  {
   "cell_type": "code",
   "execution_count": 18,
   "id": "7ac20539-4a14-4713-bb53-ff18e212aa04",
   "metadata": {},
   "outputs": [
    {
     "name": "stdout",
     "output_type": "stream",
     "text": [
      "True\n"
     ]
    }
   ],
   "source": [
    "def foo():\n",
    "    a = True  # local\n",
    "    print(a)\n",
    "foo()\n",
    "print(a)  # NameError: name 'a' is not defined"
   ]
  },
  {
   "cell_type": "markdown",
   "id": "e5be0957-3088-4cf8-9241-f489c80ff2a6",
   "metadata": {},
   "source": [
    ">del command"
   ]
  },
  {
   "cell_type": "code",
   "execution_count": 20,
   "id": "430792d8-5a9a-4d72-bce3-25258f624659",
   "metadata": {},
   "outputs": [
    {
     "name": "stdout",
     "output_type": "stream",
     "text": [
      "5\n"
     ]
    }
   ],
   "source": [
    "x = 5\n",
    "print(x)"
   ]
  },
  {
   "cell_type": "code",
   "execution_count": 21,
   "id": "b1f5fd24-5145-431c-a10f-ee5ab6de354f",
   "metadata": {},
   "outputs": [],
   "source": [
    "del x\n",
    "print(x) # NameError: name 'x' is not defined"
   ]
  },
  {
   "cell_type": "code",
   "execution_count": 32,
   "id": "b2f284af-56d8-4c01-bc01-6fc7d1a95b49",
   "metadata": {},
   "outputs": [
    {
     "name": "stdout",
     "output_type": "stream",
     "text": [
      "{'a': 1, 'b': 2}\n"
     ]
    }
   ],
   "source": [
    "p = {'a' : 1,\n",
    "     'b' : 2}\n",
    "print(p)"
   ]
  },
  {
   "cell_type": "code",
   "execution_count": 33,
   "id": "6b4d9209-f6cf-472d-94b5-369def53adc2",
   "metadata": {},
   "outputs": [
    {
     "name": "stdout",
     "output_type": "stream",
     "text": [
      "{'b': 2}\n"
     ]
    }
   ],
   "source": [
    "del p['a']\n",
    "print(p)"
   ]
  },
  {
   "cell_type": "code",
   "execution_count": 34,
   "id": "b89a005e-4342-4b50-976e-fdf598f1668a",
   "metadata": {},
   "outputs": [
    {
     "name": "stdout",
     "output_type": "stream",
     "text": [
      "{}\n"
     ]
    }
   ],
   "source": [
    "del p['b']\n",
    "print(p)"
   ]
  },
  {
   "cell_type": "code",
   "execution_count": null,
   "id": "4371c829-5ae9-4f5e-96ff-8d5fafb7d150",
   "metadata": {},
   "outputs": [],
   "source": []
  }
 ],
 "metadata": {
  "kernelspec": {
   "display_name": "Python 3 (ipykernel)",
   "language": "python",
   "name": "python3"
  },
  "language_info": {
   "codemirror_mode": {
    "name": "ipython",
    "version": 3
   },
   "file_extension": ".py",
   "mimetype": "text/x-python",
   "name": "python",
   "nbconvert_exporter": "python",
   "pygments_lexer": "ipython3",
   "version": "3.9.6"
  }
 },
 "nbformat": 4,
 "nbformat_minor": 5
}
