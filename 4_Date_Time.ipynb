{
 "cells": [
  {
   "cell_type": "markdown",
   "id": "46c5a5ba-6f3d-4e6f-b5b4-18bb50759421",
   "metadata": {},
   "source": [
    "## Date and Time"
   ]
  },
  {
   "cell_type": "code",
   "execution_count": 5,
   "id": "62e36462-50a3-4014-a2b8-b386601c6b7e",
   "metadata": {},
   "outputs": [
    {
     "name": "stdout",
     "output_type": "stream",
     "text": [
      "2021-09-13 09:36:39-05:00\n"
     ]
    }
   ],
   "source": [
    "\"\"\" \n",
    "Parsing a string into a timezone aware datetime object\n",
    "\"\"\"\n",
    "import datetime\n",
    "dt = datetime.datetime.strptime(\"2021-09-13T09:36:39-0500\", \"%Y-%m-%dT%H:%M:%S%z\")\n",
    "\n",
    "print(dt)"
   ]
  },
  {
   "cell_type": "code",
   "execution_count": 7,
   "id": "6f184b27-0b57-4faa-9d10-aec1ed4d3910",
   "metadata": {},
   "outputs": [
    {
     "name": "stdout",
     "output_type": "stream",
     "text": [
      "2021-01-01 12:00:00+05:00\n",
      "UTC+05:00\n"
     ]
    }
   ],
   "source": [
    "\"\"\" Constructing timezone-aware datetimes \"\"\"\n",
    "# Fixed Time Zones\n",
    "\n",
    "from datetime import datetime, timedelta, timezone\n",
    "NPT = timezone(timedelta(hours=+5))\n",
    "\n",
    "dt = datetime(2021, 1, 1, 12, 0, 0, tzinfo=NPT)\n",
    "print(dt)\n",
    "print(dt.tzname())"
   ]
  },
  {
   "cell_type": "code",
   "execution_count": 11,
   "id": "ba27f4c4-a60b-4ace-8923-9e2547672f72",
   "metadata": {},
   "outputs": [
    {
     "name": "stdout",
     "output_type": "stream",
     "text": [
      "2021-01-01 12:00:00+05:45\n",
      "2021-01-01 12:00:00+05:45\n",
      "2021-01-01 12:00:00\n"
     ]
    }
   ],
   "source": [
    "# Zones with daylight savings time\n",
    "\n",
    "from datetime import datetime\n",
    "from dateutil import tz\n",
    "local = tz.gettz()\n",
    "nt = tz.gettz(\"Asia/Kathmandu\")\n",
    "PT = tz.gettz(\"Us/Pacific\")\n",
    "\n",
    "dt_1 = datetime(2021, 1, 1, 12, tzinfo=local)\n",
    "dt_2 = datetime(2021, 1, 1, 12, tzinfo=nt)\n",
    "dt_3 = datetime(2021, 1, 1, 12, tzinfo=PT)\n",
    "print(dt_1)\n",
    "print(dt_2)\n",
    "print(dt_3)"
   ]
  },
  {
   "cell_type": "code",
   "execution_count": 15,
   "id": "3641505b-3398-4e51-a095-2bdc81e5b278",
   "metadata": {},
   "outputs": [
    {
     "name": "stdout",
     "output_type": "stream",
     "text": [
      "7\n",
      "78549\n"
     ]
    }
   ],
   "source": [
    "\"\"\" Computing time differences \"\"\"\n",
    "\n",
    "from datetime import datetime, timedelta\n",
    "now = datetime.now()\n",
    "then = datetime(2021, 9, 6)\n",
    "delta = now-then\n",
    "print(delta.days)\n",
    "print(delta.seconds)"
   ]
  },
  {
   "cell_type": "code",
   "execution_count": 17,
   "id": "9ee1b296-75fe-4326-9bd5-1ce6b9566984",
   "metadata": {},
   "outputs": [
    {
     "data": {
      "text/plain": [
       "'11 January 2022'"
      ]
     },
     "execution_count": 17,
     "metadata": {},
     "output_type": "execute_result"
    }
   ],
   "source": [
    "# n day's after date:\n",
    "import datetime\n",
    "def get_n_days_after_date(date_format=\"%d %B %Y\", add_days=120):\n",
    "    date_n_days_after = datetime.datetime.now() + timedelta(days=add_days)\n",
    "    return date_n_days_after.strftime(date_format)\n",
    "get_n_days_after_date()"
   ]
  },
  {
   "cell_type": "code",
   "execution_count": 28,
   "id": "3b7c64ba-ff52-455e-b7b0-525ab06aaff5",
   "metadata": {},
   "outputs": [
    {
     "data": {
      "text/plain": [
       "'06 September 2021'"
      ]
     },
     "execution_count": 28,
     "metadata": {},
     "output_type": "execute_result"
    }
   ],
   "source": [
    "# n day's before date\n",
    "\n",
    "import datetime\n",
    "\n",
    "def get_n_days_before_date(date_formate=\"%d %B %Y\", days_before=7):\n",
    "    date_n_days_ago = datetime.datetime.now() - timedelta(days = days_before)\n",
    "    return date_n_days_ago.strftime(date_formate)\n",
    "\n",
    "get_n_days_before_date()"
   ]
  },
  {
   "cell_type": "code",
   "execution_count": 31,
   "id": "e3f34a6f-075b-4c36-96d0-01cba0cb2b1e",
   "metadata": {},
   "outputs": [
    {
     "name": "stdout",
     "output_type": "stream",
     "text": [
      "2021-09-13\n",
      "2022-01-01\n",
      "12:00:00\n",
      "2021-09-13 22:02:51.428661\n"
     ]
    }
   ],
   "source": [
    "\"\"\" Basic datetime objects \"\"\"\n",
    "\n",
    "import datetime\n",
    "\n",
    "today = datetime.date.today()\n",
    "new_year = datetime.date(2022, 1, 1)\n",
    "\n",
    "noon = datetime.time(12, 0, 0)\n",
    "now = datetime.datetime.now()\n",
    "\n",
    "print(today)\n",
    "print(new_year)\n",
    "print(noon)\n",
    "print(now)"
   ]
  },
  {
   "cell_type": "code",
   "execution_count": 40,
   "id": "cf2a2f39-18c2-47fc-82f7-2072ab70b4f9",
   "metadata": {},
   "outputs": [
    {
     "data": {
      "text/plain": [
       "datetime.datetime(2021, 9, 13, 16, 21, 13, 283987, tzinfo=tzutc())"
      ]
     },
     "execution_count": 40,
     "metadata": {},
     "output_type": "execute_result"
    }
   ],
   "source": [
    "\"\"\" Swithing between time zones \"\"\"\n",
    "from datetime import datetime\n",
    "from dateutil import tz\n",
    "\n",
    "utc = tz.tzutc()\n",
    "local = tz.tzlocal()\n",
    "\n",
    "utc_now = utc_now.replace(tzinfo=utc)\n",
    "utc_now"
   ]
  },
  {
   "cell_type": "code",
   "execution_count": 41,
   "id": "3fb30516-b181-45bb-a4c1-ea50b2c4564b",
   "metadata": {},
   "outputs": [
    {
     "data": {
      "text/plain": [
       "datetime.datetime(2021, 9, 13, 22, 6, 13, 283987, tzinfo=tzlocal())"
      ]
     },
     "execution_count": 41,
     "metadata": {},
     "output_type": "execute_result"
    }
   ],
   "source": [
    "local_now = utc_now.astimezone(local)\n",
    "local_now"
   ]
  },
  {
   "cell_type": "code",
   "execution_count": 48,
   "id": "e9e000cf-abc5-426d-8989-97468bdb5100",
   "metadata": {},
   "outputs": [
    {
     "name": "stdout",
     "output_type": "stream",
     "text": [
      "Today :  2021-09-13\n",
      "Yesterday :  2021-09-12\n"
     ]
    }
   ],
   "source": [
    "\"\"\" Date arithematic \"\"\"\n",
    "\n",
    "import datetime\n",
    "\n",
    "today = datetime.date.today()\n",
    "print(\"Today : \", today)\n",
    "\n",
    "yesterday = today - datetime.timedelta(days=1)\n",
    "print(\"Yesterday : \", yesterday)"
   ]
  },
  {
   "cell_type": "code",
   "execution_count": 53,
   "id": "bfdd2e63-5707-4d1d-af84-aacc2174a67e",
   "metadata": {},
   "outputs": [
    {
     "name": "stdout",
     "output_type": "stream",
     "text": [
      "2021-09-13\n",
      "2021-10-13\n"
     ]
    }
   ],
   "source": [
    "\"\"\" Subtracting months from a date \"\"\"\n",
    "\n",
    "import calendar\n",
    "from datetime import date\n",
    "\n",
    "def monthdelta(date, delta):\n",
    "    m, y = (date.month + delta) % 12, date.year + ((date.month)+delta-1) //12\n",
    "    if not m:\n",
    "        m = 12\n",
    "    d = min(date.day, calendar.monthrange(y, m)[1])\n",
    "    return date.replace(day=d, month=m, year=y)\n",
    "\n",
    "next_month = monthdelta(date.today(), 1)\n",
    "print(date.today())\n",
    "print(next_month)"
   ]
  },
  {
   "cell_type": "code",
   "execution_count": 54,
   "id": "dafcc459-e73f-4da6-99f6-6e8066703d41",
   "metadata": {},
   "outputs": [
    {
     "name": "stdout",
     "output_type": "stream",
     "text": [
      "2021-09-13 06:06:06\n"
     ]
    }
   ],
   "source": [
    "\"\"\" Extracting datetime out of a text \"\"\"\n",
    "from dateutil.parser import parse\n",
    "\n",
    "dt = parse(\"Today is September 13, 2021 at 6:6:6AM\", fuzzy=True)\n",
    "print(dt)"
   ]
  },
  {
   "cell_type": "code",
   "execution_count": 55,
   "id": "0c253a85-6d7f-48e0-b0fc-1dfbf7b334d1",
   "metadata": {},
   "outputs": [
    {
     "name": "stdout",
     "output_type": "stream",
     "text": [
      "2021-09-13\n",
      "2021-09-14\n",
      "2021-09-15\n",
      "2021-09-16\n",
      "2021-09-17\n",
      "2021-09-18\n",
      "2021-09-19\n"
     ]
    }
   ],
   "source": [
    "\"\"\" Iterating dates \"\"\"\n",
    "\n",
    "import datetime\n",
    "# The size of each step in days\n",
    "day_delta = datetime.timedelta(days=1)\n",
    "\n",
    "start_date = datetime.date.today()\n",
    "end_date = start_date + 7*day_delta\n",
    "\n",
    "for i in range((end_date - start_date).days):\n",
    "    print(start_date + i*day_delta)"
   ]
  },
  {
   "cell_type": "code",
   "execution_count": null,
   "id": "01a4e728-9466-40b6-b9ee-f1b6702a3768",
   "metadata": {},
   "outputs": [],
   "source": []
  }
 ],
 "metadata": {
  "kernelspec": {
   "display_name": "Python 3 (ipykernel)",
   "language": "python",
   "name": "python3"
  },
  "language_info": {
   "codemirror_mode": {
    "name": "ipython",
    "version": 3
   },
   "file_extension": ".py",
   "mimetype": "text/x-python",
   "name": "python",
   "nbconvert_exporter": "python",
   "pygments_lexer": "ipython3",
   "version": "3.9.6"
  }
 },
 "nbformat": 4,
 "nbformat_minor": 5
}
