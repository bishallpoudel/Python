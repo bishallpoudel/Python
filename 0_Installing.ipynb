{
 "cells": [
  {
   "cell_type": "markdown",
   "id": "f3748611-77ef-4549-bd0b-1b7dbe83825b",
   "metadata": {},
   "source": [
    "## Python installation"
   ]
  },
  {
   "cell_type": "markdown",
   "id": "87fb3ca4-a427-4a3f-ab3d-75ea4fbddceb",
   "metadata": {},
   "source": [
    "##### There are two versions of python Python 2 and Python 3. "
   ]
  },
  {
   "cell_type": "markdown",
   "id": "1874e7f8-dd57-4639-926b-9f676695982f",
   "metadata": {},
   "source": [
    "#### 1. Windows"
   ]
  },
  {
   "cell_type": "markdown",
   "id": "31c55806-5587-49ac-b459-5af0348464c0",
   "metadata": {},
   "source": [
    "Download python watever you want thiough this https://www.python.org/downloads/\n",
    "Check if it is install or not___ type in teminal or cmd \n",
    "\n",
    "`python --vesion`\n",
    "\n",
    "If not shows python version then add python into system environment\n",
    "Add path of pythonX.exe into environment variable\n",
    "Then you got access"
   ]
  },
  {
   "cell_type": "markdown",
   "id": "36dfbf53-5b9c-4761-9134-474487cdb704",
   "metadata": {},
   "source": [
    "##### 2. Linux"
   ]
  },
  {
   "cell_type": "markdown",
   "id": "c0751cdd-8023-45c1-a469-4324823d4f97",
   "metadata": {},
   "source": [
    "`sudo apt install build-essential checkinstall \\\n",
    "sudo apt install libreadline-gplv2-dev libncursesw5-dev libssl-dev libsqlite3-dev tk-dev libgdbmdev \\\n",
    "libc6-dev libbz2-dev \\\n",
    "wget https://www.python.org/ftp/python/3.6.1/Python-3.6.1.tar.xz \\\n",
    "tar xvf Python-3.6.1.tar.xz \\\n",
    "cd Python-3.6.1/ \\\n",
    "./configure --enable-optimizations \\\n",
    "sudo make install` \\\n",
    "*This is to install python 3.6.1* \\\n",
    "Then add path of new python in PATH environment vaiable\n",
    ">`export PATH = $PATH:<path of new python>`"
   ]
  },
  {
   "cell_type": "markdown",
   "id": "e5912fcf-5d64-417c-a083-cadd835d797a",
   "metadata": {},
   "source": [
    "##### 3. MacOS"
   ]
  },
  {
   "cell_type": "markdown",
   "id": "731609e4-c6cb-4732-9cab-aa4cfbaafe81",
   "metadata": {},
   "source": [
    "Install Homebrew: \\\n",
    "`/usr/bin/ruby -e \"$(curl -fsSL https://raw.githubusercontent.com/Homebrew/install/master/install)\"`\n",
    "Install Python 2.7: \\\n",
    "`brew install python`"
   ]
  },
  {
   "cell_type": "markdown",
   "id": "e073e890-4008-4ce1-9f09-9900b05cd1ee",
   "metadata": {},
   "source": [
    "### Install external modules using pip"
   ]
  },
  {
   "cell_type": "markdown",
   "id": "33275890-0a3d-4626-93cf-7f0bb4082509",
   "metadata": {},
   "source": [
    ">`python -m install pip`"
   ]
  },
  {
   "cell_type": "markdown",
   "id": "5067d01c-3bec-40a8-b8e7-f055ab941831",
   "metadata": {},
   "source": [
    "`pip install <pakage_name> `"
   ]
  },
  {
   "cell_type": "markdown",
   "id": "02f3545c-2fa2-4749-a20f-f4908fecdcd4",
   "metadata": {},
   "source": [
    "Upgrading installed packages \\\n",
    "`pip install <pakage_name> --upgrade`"
   ]
  },
  {
   "cell_type": "markdown",
   "id": "c101919d-2176-49be-aeb5-0ed92f85b0e5",
   "metadata": {},
   "source": [
    "Upgrading pip \\\n",
    "Linux: `pip install -U pip` \\\n",
    "Windows: `python -m pip install -U pip`"
   ]
  },
  {
   "cell_type": "code",
   "execution_count": null,
   "id": "48bf9275-14df-4b56-bcd2-8999f9af23f3",
   "metadata": {},
   "outputs": [],
   "source": []
  }
 ],
 "metadata": {
  "kernelspec": {
   "display_name": "Python 3 (ipykernel)",
   "language": "python",
   "name": "python3"
  },
  "language_info": {
   "codemirror_mode": {
    "name": "ipython",
    "version": 3
   },
   "file_extension": ".py",
   "mimetype": "text/x-python",
   "name": "python",
   "nbconvert_exporter": "python",
   "pygments_lexer": "ipython3",
   "version": "3.9.6"
  }
 },
 "nbformat": 4,
 "nbformat_minor": 5
}
