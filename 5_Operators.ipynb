{
 "cells": [
  {
   "cell_type": "markdown",
   "id": "064a4a71-327a-4cfe-995d-f317969565a5",
   "metadata": {},
   "source": [
    "## Mathematical Operators"
   ]
  },
  {
   "cell_type": "markdown",
   "id": "06c5de06-37aa-4763-8ba4-04244ec414fd",
   "metadata": {},
   "source": [
    ">Division"
   ]
  },
  {
   "cell_type": "code",
   "execution_count": 3,
   "id": "b8b30074-56e0-4a1a-987e-5c456fb336ed",
   "metadata": {},
   "outputs": [
    {
     "name": "stdout",
     "output_type": "stream",
     "text": [
      "0.6666666666666666\n",
      "-0.3333333333333333\n",
      "1.5\n",
      "0\n",
      "-1\n",
      "1.0\n"
     ]
    }
   ],
   "source": [
    "a, b, c, d = 2, 3, 2.0, -9\n",
    "\n",
    "print(a/b)\n",
    "print(b/d)\n",
    "print(b/c)\n",
    "\n",
    "print(a//b)\n",
    "print(b//d)\n",
    "print(b//c)"
   ]
  },
  {
   "cell_type": "code",
   "execution_count": 7,
   "id": "69024cd8-c766-41e9-8074-5a3401900c63",
   "metadata": {},
   "outputs": [
    {
     "data": {
      "text/plain": [
       "1.5"
      ]
     },
     "execution_count": 7,
     "metadata": {},
     "output_type": "execute_result"
    }
   ],
   "source": [
    "import operator\n",
    "operator.truediv(b, a)"
   ]
  },
  {
   "cell_type": "code",
   "execution_count": 34,
   "id": "88cbf8df-b137-4f1e-a73f-d693d5692d92",
   "metadata": {},
   "outputs": [
    {
     "data": {
      "text/plain": [
       "1"
      ]
     },
     "execution_count": 34,
     "metadata": {},
     "output_type": "execute_result"
    }
   ],
   "source": [
    "operator.floordiv(b, a)"
   ]
  },
  {
   "cell_type": "markdown",
   "id": "446fda96-5111-42d2-9def-02f9f0755c4b",
   "metadata": {},
   "source": [
    ">Addition"
   ]
  },
  {
   "cell_type": "code",
   "execution_count": null,
   "id": "8ade0c87-dbfe-4f27-9bf4-497a3b9939d2",
   "metadata": {},
   "outputs": [
    {
     "name": "stdout",
     "output_type": "stream",
     "text": [
      "5.2\n",
      "5.2\n"
     ]
    }
   ],
   "source": [
    "a, b = 4, 1.2\n",
    "\n",
    "print(a+b)\n",
    "a += b\n",
    "print(a)"
   ]
  },
  {
   "cell_type": "code",
   "execution_count": 14,
   "id": "6da00bf9-4bd3-447e-9560-1dbc4fb3660c",
   "metadata": {},
   "outputs": [
    {
     "data": {
      "text/plain": [
       "6.4"
      ]
     },
     "execution_count": 14,
     "metadata": {},
     "output_type": "execute_result"
    }
   ],
   "source": [
    "import operator\n",
    "\n",
    "operator.add(a, b)"
   ]
  },
  {
   "cell_type": "code",
   "execution_count": 16,
   "id": "f14e8d77-d018-4469-8dd2-8339b555a69e",
   "metadata": {},
   "outputs": [
    {
     "name": "stdout",
     "output_type": "stream",
     "text": [
      "7.6000000000000005\n"
     ]
    }
   ],
   "source": [
    "a = operator.iadd(a, b)\n",
    "print(a)"
   ]
  },
  {
   "cell_type": "code",
   "execution_count": 31,
   "id": "685de2d7-5fb2-4295-b07a-6bf5b8b8d624",
   "metadata": {},
   "outputs": [
    {
     "name": "stdout",
     "output_type": "stream",
     "text": [
      "Helloworld\n"
     ]
    }
   ],
   "source": [
    "str1 = \"Hello\"\n",
    "str2 = \"world\"\n",
    "print(str1 + str2)"
   ]
  },
  {
   "cell_type": "markdown",
   "id": "c63d1264-ffdb-4e51-9906-e233ad2bdaca",
   "metadata": {},
   "source": [
    ">Exponentiation"
   ]
  },
  {
   "cell_type": "code",
   "execution_count": 33,
   "id": "fd3c2f59-b5a0-46d4-be1f-2d1eb2d8770f",
   "metadata": {},
   "outputs": [
    {
     "name": "stdout",
     "output_type": "stream",
     "text": [
      "8\n"
     ]
    }
   ],
   "source": [
    "a, b = 2, 3\n",
    "print(a ** b)"
   ]
  },
  {
   "cell_type": "code",
   "execution_count": 19,
   "id": "26ef61ec-7757-4ae0-8323-eedf2e82310b",
   "metadata": {},
   "outputs": [
    {
     "data": {
      "text/plain": [
       "8"
      ]
     },
     "execution_count": 19,
     "metadata": {},
     "output_type": "execute_result"
    }
   ],
   "source": [
    "import math \n",
    "pow(a, b)"
   ]
  },
  {
   "cell_type": "code",
   "execution_count": 20,
   "id": "9fcb22f2-7b42-4c4b-845e-83239ea6f1fe",
   "metadata": {},
   "outputs": [
    {
     "data": {
      "text/plain": [
       "8"
      ]
     },
     "execution_count": 20,
     "metadata": {},
     "output_type": "execute_result"
    }
   ],
   "source": [
    "import operator\n",
    "operator.pow(a, b)"
   ]
  },
  {
   "cell_type": "code",
   "execution_count": 22,
   "id": "e9ab598d-d5f4-4870-be30-ebf533ca064d",
   "metadata": {},
   "outputs": [
    {
     "data": {
      "text/plain": [
       "2"
      ]
     },
     "execution_count": 22,
     "metadata": {},
     "output_type": "execute_result"
    }
   ],
   "source": [
    "pow(a, b, b)"
   ]
  },
  {
   "cell_type": "code",
   "execution_count": 23,
   "id": "9ee5b4f0-b67c-458a-b0da-f2bb36889f2b",
   "metadata": {},
   "outputs": [
    {
     "data": {
      "text/plain": [
       "2.0"
      ]
     },
     "execution_count": 23,
     "metadata": {},
     "output_type": "execute_result"
    }
   ],
   "source": [
    "import math\n",
    "import cmath\n",
    "\n",
    "c = 4\n",
    "math.sqrt(c)"
   ]
  },
  {
   "cell_type": "code",
   "execution_count": 25,
   "id": "b0436f99-bd7d-4a1e-a659-6bbc0af3f229",
   "metadata": {},
   "outputs": [
    {
     "data": {
      "text/plain": [
       "(2+0j)"
      ]
     },
     "execution_count": 25,
     "metadata": {},
     "output_type": "execute_result"
    }
   ],
   "source": [
    "cmath.sqrt(c)"
   ]
  },
  {
   "cell_type": "code",
   "execution_count": 26,
   "id": "1dd3ff56-6c8e-463e-99cf-5f9455dd431f",
   "metadata": {},
   "outputs": [
    {
     "data": {
      "text/plain": [
       "1.0"
      ]
     },
     "execution_count": 26,
     "metadata": {},
     "output_type": "execute_result"
    }
   ],
   "source": [
    "math.exp(0)"
   ]
  },
  {
   "cell_type": "code",
   "execution_count": 27,
   "id": "83cd30d5-42b9-4c65-a643-88e0b90f6f44",
   "metadata": {},
   "outputs": [
    {
     "data": {
      "text/plain": [
       "2.718281828459045"
      ]
     },
     "execution_count": 27,
     "metadata": {},
     "output_type": "execute_result"
    }
   ],
   "source": [
    "math.exp(1)"
   ]
  },
  {
   "cell_type": "code",
   "execution_count": 29,
   "id": "8d8c9d05-9774-43b2-be47-4230dedd84e0",
   "metadata": {},
   "outputs": [
    {
     "data": {
      "text/plain": [
       "1.718281828459045"
      ]
     },
     "execution_count": 29,
     "metadata": {},
     "output_type": "execute_result"
    }
   ],
   "source": [
    "math.expm1(1)  # exp - 1"
   ]
  },
  {
   "cell_type": "markdown",
   "id": "99e132c0-92a5-417e-ac93-6c5b8e548f9a",
   "metadata": {},
   "source": [
    ">Trigonometric functions"
   ]
  },
  {
   "cell_type": "code",
   "execution_count": 36,
   "id": "e8c57419-1ddb-4c6d-b85d-70ba80d70869",
   "metadata": {},
   "outputs": [
    {
     "data": {
      "text/plain": [
       "0.8414709848078965"
      ]
     },
     "execution_count": 36,
     "metadata": {},
     "output_type": "execute_result"
    }
   ],
   "source": [
    "import math\n",
    "\n",
    "a, b = 1, 2\n",
    "\n",
    "math.sin(a)  # a in radian"
   ]
  },
  {
   "cell_type": "code",
   "execution_count": 37,
   "id": "90099b6e-26e5-4e1a-bb8f-bc167f0439fb",
   "metadata": {},
   "outputs": [
    {
     "data": {
      "text/plain": [
       "3.7621956910836314"
      ]
     },
     "execution_count": 37,
     "metadata": {},
     "output_type": "execute_result"
    }
   ],
   "source": [
    "math.cosh(b)  # hyperbolic"
   ]
  },
  {
   "cell_type": "code",
   "execution_count": 38,
   "id": "a09ba138-13b1-4d59-847b-42bd68a1c019",
   "metadata": {},
   "outputs": [
    {
     "data": {
      "text/plain": [
       "1.2626272556789115"
      ]
     },
     "execution_count": 38,
     "metadata": {},
     "output_type": "execute_result"
    }
   ],
   "source": [
    "math.atan(math.pi)  # arc tangent of pi"
   ]
  },
  {
   "cell_type": "code",
   "execution_count": 40,
   "id": "78382b36-e7cb-4649-80cc-ae5258b2bacd",
   "metadata": {},
   "outputs": [
    {
     "data": {
      "text/plain": [
       "2.23606797749979"
      ]
     },
     "execution_count": 40,
     "metadata": {},
     "output_type": "execute_result"
    }
   ],
   "source": [
    "math.hypot(a, b)  # Euclidean norm"
   ]
  },
  {
   "cell_type": "code",
   "execution_count": 41,
   "id": "ae6b4c5a-5dba-4963-83d2-ae1677f7b847",
   "metadata": {},
   "outputs": [
    {
     "data": {
      "text/plain": [
       "2.23606797749979"
      ]
     },
     "execution_count": 41,
     "metadata": {},
     "output_type": "execute_result"
    }
   ],
   "source": [
    "math.sqrt(a*a + b*b)"
   ]
  },
  {
   "cell_type": "code",
   "execution_count": 43,
   "id": "2a391aef-5c0b-4111-9a5b-fb16f68bea37",
   "metadata": {},
   "outputs": [
    {
     "data": {
      "text/plain": [
       "57.29577951308232"
      ]
     },
     "execution_count": 43,
     "metadata": {},
     "output_type": "execute_result"
    }
   ],
   "source": [
    "math.degrees(a)"
   ]
  },
  {
   "cell_type": "code",
   "execution_count": 44,
   "id": "37a29ddb-4d77-4342-8e14-31cbb7277781",
   "metadata": {},
   "outputs": [
    {
     "data": {
      "text/plain": [
       "0.7853981633974483"
      ]
     },
     "execution_count": 44,
     "metadata": {},
     "output_type": "execute_result"
    }
   ],
   "source": [
    "math.radians(45)"
   ]
  },
  {
   "cell_type": "markdown",
   "id": "c054f37b-c242-4454-946b-1a60ea1e250c",
   "metadata": {},
   "source": [
    ">Subtraction"
   ]
  },
  {
   "cell_type": "code",
   "execution_count": 45,
   "id": "9549a18b-bdfb-4520-b5fd-ca424b494d43",
   "metadata": {},
   "outputs": [
    {
     "data": {
      "text/plain": [
       "-2"
      ]
     },
     "execution_count": 45,
     "metadata": {},
     "output_type": "execute_result"
    }
   ],
   "source": [
    "a, b = 2, 4\n",
    "\n",
    "a - b"
   ]
  },
  {
   "cell_type": "code",
   "execution_count": 47,
   "id": "f11c4cc5-c406-4805-b4be-2ad96f6b9c7e",
   "metadata": {},
   "outputs": [
    {
     "data": {
      "text/plain": [
       "-2"
      ]
     },
     "execution_count": 47,
     "metadata": {},
     "output_type": "execute_result"
    }
   ],
   "source": [
    "import operator\n",
    "operator.sub(a, b)"
   ]
  },
  {
   "cell_type": "code",
   "execution_count": 51,
   "id": "60f388c6-a66c-4ff7-923a-98bd12b2a0e2",
   "metadata": {},
   "outputs": [
    {
     "name": "stdout",
     "output_type": "stream",
     "text": [
      "1\n"
     ]
    }
   ],
   "source": [
    "a, b = 1, 2\n",
    "b -= a\n",
    "print(b)"
   ]
  },
  {
   "cell_type": "markdown",
   "id": "53a4d4ac-ee20-4a0e-b389-5e882d3f0db7",
   "metadata": {},
   "source": [
    ">Multiplication"
   ]
  },
  {
   "cell_type": "code",
   "execution_count": 55,
   "id": "30f6dd1e-3ca3-4db9-9e63-539ff8b8169c",
   "metadata": {},
   "outputs": [
    {
     "name": "stdout",
     "output_type": "stream",
     "text": [
      "6\n"
     ]
    }
   ],
   "source": [
    "a, b = 2, 3\n",
    "\n",
    "print(a*b)"
   ]
  },
  {
   "cell_type": "code",
   "execution_count": 56,
   "id": "f9453324-57ed-414f-a3ae-af91a870cbad",
   "metadata": {},
   "outputs": [
    {
     "name": "stdout",
     "output_type": "stream",
     "text": [
      "6\n"
     ]
    }
   ],
   "source": [
    "a *= b\n",
    "print(a)"
   ]
  },
  {
   "cell_type": "code",
   "execution_count": 57,
   "id": "7665b2ef-bef9-4ac4-869c-dc7649517c96",
   "metadata": {},
   "outputs": [
    {
     "data": {
      "text/plain": [
       "9"
      ]
     },
     "execution_count": 57,
     "metadata": {},
     "output_type": "execute_result"
    }
   ],
   "source": [
    "import operator\n",
    "operator.mul(b, b)"
   ]
  },
  {
   "cell_type": "code",
   "execution_count": 58,
   "id": "9e98e188-12a6-493e-b260-74e15fd30969",
   "metadata": {},
   "outputs": [
    {
     "name": "stdout",
     "output_type": "stream",
     "text": [
      "HelloHelloHello\n"
     ]
    }
   ],
   "source": [
    "str1 = \"Hello\"\n",
    "print(3 * str1)"
   ]
  },
  {
   "cell_type": "markdown",
   "id": "55fbc798-5256-4f8f-a5d9-f8277b79b777",
   "metadata": {},
   "source": [
    ">Lograthims"
   ]
  },
  {
   "cell_type": "code",
   "execution_count": 59,
   "id": "0dd93bcd-2ff8-4ea8-b27c-ca83748654a7",
   "metadata": {},
   "outputs": [],
   "source": [
    "import math\n",
    "import cmath"
   ]
  },
  {
   "cell_type": "code",
   "execution_count": 60,
   "id": "dedfe305-dcdb-4f80-909e-6f12fffd84b9",
   "metadata": {},
   "outputs": [
    {
     "data": {
      "text/plain": [
       "1.6094379124341003"
      ]
     },
     "execution_count": 60,
     "metadata": {},
     "output_type": "execute_result"
    }
   ],
   "source": [
    "math.log(5)  # Base e"
   ]
  },
  {
   "cell_type": "code",
   "execution_count": 61,
   "id": "8ca44615-992b-42a1-9a1f-e4f4f7a6ae99",
   "metadata": {},
   "outputs": [
    {
     "data": {
      "text/plain": [
       "1.6094379124341003"
      ]
     },
     "execution_count": 61,
     "metadata": {},
     "output_type": "execute_result"
    }
   ],
   "source": [
    "math.log(5, math.e)"
   ]
  },
  {
   "cell_type": "code",
   "execution_count": 62,
   "id": "5705b4bd-e8d5-472b-b025-1b21af758819",
   "metadata": {},
   "outputs": [
    {
     "data": {
      "text/plain": [
       "(1.6094379124341003+0j)"
      ]
     },
     "execution_count": 62,
     "metadata": {},
     "output_type": "execute_result"
    }
   ],
   "source": [
    "cmath.log(5)"
   ]
  },
  {
   "cell_type": "code",
   "execution_count": 63,
   "id": "d96352ea-3c91-4656-b163-b02713ca8119",
   "metadata": {},
   "outputs": [
    {
     "data": {
      "text/plain": [
       "4.0"
      ]
     },
     "execution_count": 63,
     "metadata": {},
     "output_type": "execute_result"
    }
   ],
   "source": [
    "math.log(10000, 10)"
   ]
  },
  {
   "cell_type": "code",
   "execution_count": 64,
   "id": "00ed66f3-0920-440d-82f4-315ef655f9e2",
   "metadata": {},
   "outputs": [
    {
     "data": {
      "text/plain": [
       "(4+0j)"
      ]
     },
     "execution_count": 64,
     "metadata": {},
     "output_type": "execute_result"
    }
   ],
   "source": [
    "cmath.log(10000, 10)"
   ]
  },
  {
   "cell_type": "code",
   "execution_count": 65,
   "id": "0db84081-f3b3-4cc8-94c7-ed701fa14562",
   "metadata": {},
   "outputs": [
    {
     "data": {
      "text/plain": [
       "1.791759469228055"
      ]
     },
     "execution_count": 65,
     "metadata": {},
     "output_type": "execute_result"
    }
   ],
   "source": [
    "math.log1p(5)  # base e-1"
   ]
  },
  {
   "cell_type": "code",
   "execution_count": 67,
   "id": "0239645d-7e55-4898-bcea-d765e89d9642",
   "metadata": {},
   "outputs": [
    {
     "data": {
      "text/plain": [
       "3.321928094887362"
      ]
     },
     "execution_count": 67,
     "metadata": {},
     "output_type": "execute_result"
    }
   ],
   "source": [
    "math.log2(10)  # base 2"
   ]
  },
  {
   "cell_type": "markdown",
   "id": "766bd89c-7cdf-44f3-ab63-1f8001010c61",
   "metadata": {},
   "source": [
    ">Modulus"
   ]
  },
  {
   "cell_type": "code",
   "execution_count": 68,
   "id": "a5e8fafb-22b3-410f-bb57-0d79593caea5",
   "metadata": {},
   "outputs": [
    {
     "data": {
      "text/plain": [
       "3"
      ]
     },
     "execution_count": 68,
     "metadata": {},
     "output_type": "execute_result"
    }
   ],
   "source": [
    "3 % 4"
   ]
  },
  {
   "cell_type": "code",
   "execution_count": 69,
   "id": "69dcaee8-271e-4591-8bc7-cd3c9b21b52c",
   "metadata": {},
   "outputs": [
    {
     "data": {
      "text/plain": [
       "1"
      ]
     },
     "execution_count": 69,
     "metadata": {},
     "output_type": "execute_result"
    }
   ],
   "source": [
    "4 % 3"
   ]
  },
  {
   "cell_type": "code",
   "execution_count": 70,
   "id": "b45f4e8f-9766-4546-986b-47df049d195a",
   "metadata": {},
   "outputs": [],
   "source": [
    "import operator"
   ]
  },
  {
   "cell_type": "code",
   "execution_count": 71,
   "id": "996d383d-26a1-4204-923a-cccd65b55e45",
   "metadata": {},
   "outputs": [
    {
     "data": {
      "text/plain": [
       "3"
      ]
     },
     "execution_count": 71,
     "metadata": {},
     "output_type": "execute_result"
    }
   ],
   "source": [
    "operator.mod(3, 5)"
   ]
  },
  {
   "cell_type": "code",
   "execution_count": 72,
   "id": "2ebaaa96-92a7-4da5-ae1b-6c618acd9cfe",
   "metadata": {},
   "outputs": [
    {
     "data": {
      "text/plain": [
       "0"
      ]
     },
     "execution_count": 72,
     "metadata": {},
     "output_type": "execute_result"
    }
   ],
   "source": [
    "operator.mod(4, 2)"
   ]
  },
  {
   "cell_type": "code",
   "execution_count": 73,
   "id": "dede126e-0488-4ee0-b3e0-8dcfc8c8a67a",
   "metadata": {},
   "outputs": [
    {
     "data": {
      "text/plain": [
       "0"
      ]
     },
     "execution_count": 73,
     "metadata": {},
     "output_type": "execute_result"
    }
   ],
   "source": [
    "-3 % 3"
   ]
  },
  {
   "cell_type": "code",
   "execution_count": 74,
   "id": "d838e72c-2de1-4ab9-9726-a50f023d0c70",
   "metadata": {},
   "outputs": [
    {
     "data": {
      "text/plain": [
       "-1"
      ]
     },
     "execution_count": 74,
     "metadata": {},
     "output_type": "execute_result"
    }
   ],
   "source": [
    "5 % -2"
   ]
  },
  {
   "cell_type": "code",
   "execution_count": 76,
   "id": "2a8d8bcf-5c9a-439f-9d3d-9f94f9a74438",
   "metadata": {},
   "outputs": [
    {
     "name": "stdout",
     "output_type": "stream",
     "text": [
      "2 2\n"
     ]
    }
   ],
   "source": [
    "q, r = divmod(8, 3)\n",
    "\n",
    "print(q, r)"
   ]
  },
  {
   "cell_type": "markdown",
   "id": "b42b2053-292e-4717-8405-3aebef4e49b2",
   "metadata": {},
   "source": [
    ">Bitwise NOT"
   ]
  },
  {
   "cell_type": "code",
   "execution_count": 77,
   "id": "bdeb6126-a3af-4a33-9ccc-e8696c2ce888",
   "metadata": {},
   "outputs": [
    {
     "data": {
      "text/plain": [
       "-1"
      ]
     },
     "execution_count": 77,
     "metadata": {},
     "output_type": "execute_result"
    }
   ],
   "source": [
    "~0"
   ]
  },
  {
   "cell_type": "code",
   "execution_count": 78,
   "id": "b4966ef5-6273-4863-998f-7d45d0e1797a",
   "metadata": {},
   "outputs": [
    {
     "data": {
      "text/plain": [
       "-2"
      ]
     },
     "execution_count": 78,
     "metadata": {},
     "output_type": "execute_result"
    }
   ],
   "source": [
    "~1"
   ]
  },
  {
   "cell_type": "code",
   "execution_count": 79,
   "id": "216b61e2-9851-4c28-b249-8b65e151abfd",
   "metadata": {},
   "outputs": [
    {
     "data": {
      "text/plain": [
       "2"
      ]
     },
     "execution_count": 79,
     "metadata": {},
     "output_type": "execute_result"
    }
   ],
   "source": [
    "~-3"
   ]
  },
  {
   "cell_type": "code",
   "execution_count": 80,
   "id": "b53beffd-aeb2-41c6-bec2-850d5e46e655",
   "metadata": {},
   "outputs": [],
   "source": [
    "# ~n -> -\\n+1\\\n",
    "# ~-n -> \\n-1\\"
   ]
  },
  {
   "cell_type": "markdown",
   "id": "3a7a5737-b110-4a91-aa1b-b7db64d27bb0",
   "metadata": {},
   "source": [
    ">Bitwise XOR"
   ]
  },
  {
   "cell_type": "code",
   "execution_count": 81,
   "id": "c07096ee-9951-41ef-86b2-44accb7aa499",
   "metadata": {},
   "outputs": [
    {
     "data": {
      "text/plain": [
       "34"
      ]
     },
     "execution_count": 81,
     "metadata": {},
     "output_type": "execute_result"
    }
   ],
   "source": [
    "60 ^ 30"
   ]
  },
  {
   "cell_type": "code",
   "execution_count": 82,
   "id": "6af2324f-ce62-4b92-8ae1-25fcb5e24b4f",
   "metadata": {},
   "outputs": [
    {
     "data": {
      "text/plain": [
       "'0b100010'"
      ]
     },
     "execution_count": 82,
     "metadata": {},
     "output_type": "execute_result"
    }
   ],
   "source": [
    "bin(60 ^ 30)"
   ]
  },
  {
   "cell_type": "code",
   "execution_count": 85,
   "id": "30771844-57ac-4c1d-bfb4-41a9a3da9a61",
   "metadata": {},
   "outputs": [
    {
     "data": {
      "text/plain": [
       "0"
      ]
     },
     "execution_count": 85,
     "metadata": {},
     "output_type": "execute_result"
    }
   ],
   "source": [
    "1 ^ 0  # 1\n",
    "0 ^ 0  # 0\n",
    "0 ^ 1  # 1\n",
    "1 ^ 1  # 0"
   ]
  },
  {
   "cell_type": "markdown",
   "id": "715ae9c0-d1bd-48b6-a59a-87f87e35c88d",
   "metadata": {},
   "source": [
    ">Bitwise AND"
   ]
  },
  {
   "cell_type": "code",
   "execution_count": 86,
   "id": "be8e01b3-8cd3-4871-a658-02cfc643ef17",
   "metadata": {},
   "outputs": [
    {
     "data": {
      "text/plain": [
       "1"
      ]
     },
     "execution_count": 86,
     "metadata": {},
     "output_type": "execute_result"
    }
   ],
   "source": [
    "1 & 1"
   ]
  },
  {
   "cell_type": "code",
   "execution_count": 87,
   "id": "0ceb100d-4e21-4f86-b387-c5703615469d",
   "metadata": {},
   "outputs": [
    {
     "data": {
      "text/plain": [
       "0"
      ]
     },
     "execution_count": 87,
     "metadata": {},
     "output_type": "execute_result"
    }
   ],
   "source": [
    "1 & 0"
   ]
  },
  {
   "cell_type": "code",
   "execution_count": 88,
   "id": "7d0b11d4-baeb-4272-b2fb-18fdc339d223",
   "metadata": {},
   "outputs": [
    {
     "data": {
      "text/plain": [
       "0"
      ]
     },
     "execution_count": 88,
     "metadata": {},
     "output_type": "execute_result"
    }
   ],
   "source": [
    "0 & 1"
   ]
  },
  {
   "cell_type": "code",
   "execution_count": 89,
   "id": "860ac071-ae71-466c-9f9d-6ddde2e2c0bf",
   "metadata": {},
   "outputs": [
    {
     "data": {
      "text/plain": [
       "0"
      ]
     },
     "execution_count": 89,
     "metadata": {},
     "output_type": "execute_result"
    }
   ],
   "source": [
    "0 & 0"
   ]
  },
  {
   "cell_type": "code",
   "execution_count": 90,
   "id": "62d5fa6f-ac5b-4567-abc1-fe0263c05347",
   "metadata": {},
   "outputs": [
    {
     "data": {
      "text/plain": [
       "28"
      ]
     },
     "execution_count": 90,
     "metadata": {},
     "output_type": "execute_result"
    }
   ],
   "source": [
    "60 & 30"
   ]
  },
  {
   "cell_type": "code",
   "execution_count": 91,
   "id": "e65370d2-b741-4bdc-8de7-808c050b9b2a",
   "metadata": {},
   "outputs": [
    {
     "data": {
      "text/plain": [
       "'0b11100'"
      ]
     },
     "execution_count": 91,
     "metadata": {},
     "output_type": "execute_result"
    }
   ],
   "source": [
    "bin(60 & 30)"
   ]
  },
  {
   "cell_type": "markdown",
   "id": "273a80f8-ef40-4bf9-b564-a0a6a4ce797d",
   "metadata": {},
   "source": [
    ">Bitwise OR"
   ]
  },
  {
   "cell_type": "code",
   "execution_count": 92,
   "id": "0476195d-4bf1-4428-b3b2-480f0dc330e8",
   "metadata": {},
   "outputs": [
    {
     "data": {
      "text/plain": [
       "0"
      ]
     },
     "execution_count": 92,
     "metadata": {},
     "output_type": "execute_result"
    }
   ],
   "source": [
    "0 | 0"
   ]
  },
  {
   "cell_type": "code",
   "execution_count": 94,
   "id": "23417d2a-99c7-4c33-b241-67d716ab924d",
   "metadata": {},
   "outputs": [
    {
     "data": {
      "text/plain": [
       "1"
      ]
     },
     "execution_count": 94,
     "metadata": {},
     "output_type": "execute_result"
    }
   ],
   "source": [
    "0 | 1"
   ]
  },
  {
   "cell_type": "code",
   "execution_count": 95,
   "id": "00adda20-8326-4062-829e-e090a7efb8cc",
   "metadata": {},
   "outputs": [
    {
     "data": {
      "text/plain": [
       "1"
      ]
     },
     "execution_count": 95,
     "metadata": {},
     "output_type": "execute_result"
    }
   ],
   "source": [
    "1 | 0"
   ]
  },
  {
   "cell_type": "code",
   "execution_count": 96,
   "id": "41d5cb5e-f340-4655-9a5d-c0483314cbbf",
   "metadata": {},
   "outputs": [
    {
     "data": {
      "text/plain": [
       "1"
      ]
     },
     "execution_count": 96,
     "metadata": {},
     "output_type": "execute_result"
    }
   ],
   "source": [
    "1 | 1"
   ]
  },
  {
   "cell_type": "code",
   "execution_count": 97,
   "id": "027ce32c-b464-4d7e-803a-d045c0f1ddc3",
   "metadata": {},
   "outputs": [
    {
     "data": {
      "text/plain": [
       "62"
      ]
     },
     "execution_count": 97,
     "metadata": {},
     "output_type": "execute_result"
    }
   ],
   "source": [
    "60 | 30"
   ]
  },
  {
   "cell_type": "code",
   "execution_count": 98,
   "id": "4c7e25ac-d3b8-41a0-9832-37ff8fc85ce1",
   "metadata": {},
   "outputs": [
    {
     "data": {
      "text/plain": [
       "'0b111110'"
      ]
     },
     "execution_count": 98,
     "metadata": {},
     "output_type": "execute_result"
    }
   ],
   "source": [
    "bin(60 | 30)"
   ]
  },
  {
   "cell_type": "markdown",
   "id": "6cdb81cd-e9fa-4431-ac72-1eae02778054",
   "metadata": {},
   "source": [
    ">Bitwise left shift"
   ]
  },
  {
   "cell_type": "code",
   "execution_count": 99,
   "id": "80e701a6-9231-450d-be53-3f7c5a420042",
   "metadata": {},
   "outputs": [
    {
     "data": {
      "text/plain": [
       "8"
      ]
     },
     "execution_count": 99,
     "metadata": {},
     "output_type": "execute_result"
    }
   ],
   "source": [
    "2 << 2"
   ]
  },
  {
   "cell_type": "code",
   "execution_count": 100,
   "id": "28e8287e-6753-478e-aaad-b9a9ab340a47",
   "metadata": {},
   "outputs": [
    {
     "data": {
      "text/plain": [
       "14"
      ]
     },
     "execution_count": 100,
     "metadata": {},
     "output_type": "execute_result"
    }
   ],
   "source": [
    "7 << 1"
   ]
  },
  {
   "cell_type": "code",
   "execution_count": 110,
   "id": "e3d4ee1e-232c-4277-a45b-149d00192034",
   "metadata": {},
   "outputs": [
    {
     "data": {
      "text/plain": [
       "24"
      ]
     },
     "execution_count": 110,
     "metadata": {},
     "output_type": "execute_result"
    }
   ],
   "source": [
    "\"\"\" Performing a left bit shift of n is equivalent to multiplication by 2**n: \"\"\"\n",
    "\n",
    "3 << 3"
   ]
  },
  {
   "cell_type": "markdown",
   "id": "95e851e7-3706-4683-a72e-1668a9580fd6",
   "metadata": {},
   "source": [
    ">Bitwise right shift"
   ]
  },
  {
   "cell_type": "code",
   "execution_count": 102,
   "id": "80a9fb4f-3f00-4113-918c-b932221b0975",
   "metadata": {},
   "outputs": [
    {
     "data": {
      "text/plain": [
       "2"
      ]
     },
     "execution_count": 102,
     "metadata": {},
     "output_type": "execute_result"
    }
   ],
   "source": [
    "8 >> 2"
   ]
  },
  {
   "cell_type": "code",
   "execution_count": 103,
   "id": "5d60fdcf-8e70-4c85-8664-885d3a9ae394",
   "metadata": {},
   "outputs": [
    {
     "data": {
      "text/plain": [
       "2"
      ]
     },
     "execution_count": 103,
     "metadata": {},
     "output_type": "execute_result"
    }
   ],
   "source": [
    "4 >> 1"
   ]
  },
  {
   "cell_type": "code",
   "execution_count": 104,
   "id": "0e6ea543-89b7-432a-9913-e09bc617267c",
   "metadata": {},
   "outputs": [
    {
     "data": {
      "text/plain": [
       "5"
      ]
     },
     "execution_count": 104,
     "metadata": {},
     "output_type": "execute_result"
    }
   ],
   "source": [
    "46 >> 3"
   ]
  },
  {
   "cell_type": "code",
   "execution_count": 108,
   "id": "14305295-c03a-429f-accd-3572182638af",
   "metadata": {},
   "outputs": [
    {
     "data": {
      "text/plain": [
       "0"
      ]
     },
     "execution_count": 108,
     "metadata": {},
     "output_type": "execute_result"
    }
   ],
   "source": [
    "3 >> 5"
   ]
  },
  {
   "cell_type": "code",
   "execution_count": 111,
   "id": "cdaddd79-b152-41a9-8b0d-9ac91efa0369",
   "metadata": {},
   "outputs": [
    {
     "data": {
      "text/plain": [
       "0"
      ]
     },
     "execution_count": 111,
     "metadata": {},
     "output_type": "execute_result"
    }
   ],
   "source": [
    "\"\"\" Performing a right bit shift of n is equivalent to integer division by 2**n: \"\"\"\n",
    "\n",
    "5 >> 3"
   ]
  },
  {
   "cell_type": "markdown",
   "id": "caa211ee-becb-4849-afd1-09ee297679b3",
   "metadata": {},
   "source": [
    ">Boolean Operators"
   ]
  },
  {
   "cell_type": "code",
   "execution_count": 112,
   "id": "a468a028-36ec-4a26-88bc-8397dbe912d4",
   "metadata": {},
   "outputs": [],
   "source": [
    "def t_f():\n",
    "    print(\"t_f()\")\n",
    "    return True\n",
    "def f_f():\n",
    "    print(\"f_f()\")\n",
    "    return False"
   ]
  },
  {
   "cell_type": "code",
   "execution_count": 113,
   "id": "a444dac0-176f-4016-a477-d6db8cf35eb0",
   "metadata": {},
   "outputs": [
    {
     "name": "stdout",
     "output_type": "stream",
     "text": [
      "t_f()\n"
     ]
    },
    {
     "data": {
      "text/plain": [
       "True"
      ]
     },
     "execution_count": 113,
     "metadata": {},
     "output_type": "execute_result"
    }
   ],
   "source": [
    "t_f() or f_f()"
   ]
  },
  {
   "cell_type": "code",
   "execution_count": 114,
   "id": "28844d8e-bba8-448a-a90f-68fe657e9f18",
   "metadata": {},
   "outputs": [
    {
     "name": "stdout",
     "output_type": "stream",
     "text": [
      "f_f()\n",
      "t_f()\n"
     ]
    },
    {
     "data": {
      "text/plain": [
       "True"
      ]
     },
     "execution_count": 114,
     "metadata": {},
     "output_type": "execute_result"
    }
   ],
   "source": [
    "f_f() or t_f()"
   ]
  },
  {
   "cell_type": "code",
   "execution_count": 115,
   "id": "da4dcb38-e14b-47fa-b6b6-fca5020061da",
   "metadata": {},
   "outputs": [
    {
     "name": "stdout",
     "output_type": "stream",
     "text": [
      "t_f()\n",
      "f_f()\n"
     ]
    },
    {
     "data": {
      "text/plain": [
       "False"
      ]
     },
     "execution_count": 115,
     "metadata": {},
     "output_type": "execute_result"
    }
   ],
   "source": [
    "t_f() and f_f()"
   ]
  },
  {
   "cell_type": "code",
   "execution_count": 116,
   "id": "ca111d91-f512-4dd7-8670-731e54dc40da",
   "metadata": {},
   "outputs": [
    {
     "name": "stdout",
     "output_type": "stream",
     "text": [
      "f_f()\n"
     ]
    },
    {
     "data": {
      "text/plain": [
       "False"
      ]
     },
     "execution_count": 116,
     "metadata": {},
     "output_type": "execute_result"
    }
   ],
   "source": [
    "f_f() and t_f()"
   ]
  },
  {
   "cell_type": "code",
   "execution_count": 117,
   "id": "ea16109f-3808-40ca-afd6-df676396ab4b",
   "metadata": {},
   "outputs": [],
   "source": [
    "x = True\n",
    "y = False\n"
   ]
  },
  {
   "cell_type": "code",
   "execution_count": 122,
   "id": "80fcedad-ed2c-48e3-ba42-8f74e7c467ce",
   "metadata": {},
   "outputs": [
    {
     "data": {
      "text/plain": [
       "False"
      ]
     },
     "execution_count": 122,
     "metadata": {},
     "output_type": "execute_result"
    }
   ],
   "source": [
    "x and y"
   ]
  },
  {
   "cell_type": "code",
   "execution_count": 121,
   "id": "9c7e8409-0bf5-4fa2-890d-25897322d4bd",
   "metadata": {},
   "outputs": [
    {
     "data": {
      "text/plain": [
       "True"
      ]
     },
     "execution_count": 121,
     "metadata": {},
     "output_type": "execute_result"
    }
   ],
   "source": [
    "x or y"
   ]
  },
  {
   "cell_type": "code",
   "execution_count": 120,
   "id": "bc210ef3-5662-461e-bde9-23173b1827d0",
   "metadata": {},
   "outputs": [
    {
     "data": {
      "text/plain": [
       "0"
      ]
     },
     "execution_count": 120,
     "metadata": {},
     "output_type": "execute_result"
    }
   ],
   "source": [
    "p = 1\n",
    "q = 0\n",
    "\n",
    "p and q"
   ]
  },
  {
   "cell_type": "code",
   "execution_count": 123,
   "id": "27a1988f-c5ae-4456-b030-c6bc4bbf44ca",
   "metadata": {},
   "outputs": [
    {
     "data": {
      "text/plain": [
       "1"
      ]
     },
     "execution_count": 123,
     "metadata": {},
     "output_type": "execute_result"
    }
   ],
   "source": [
    "p or q"
   ]
  },
  {
   "cell_type": "code",
   "execution_count": 124,
   "id": "7fa06211-eaad-4090-9823-90798e4a3339",
   "metadata": {},
   "outputs": [
    {
     "data": {
      "text/plain": [
       "False"
      ]
     },
     "execution_count": 124,
     "metadata": {},
     "output_type": "execute_result"
    }
   ],
   "source": [
    "not p"
   ]
  },
  {
   "cell_type": "code",
   "execution_count": 125,
   "id": "74b101f4-370a-4176-803a-3d5c01af51ce",
   "metadata": {},
   "outputs": [
    {
     "data": {
      "text/plain": [
       "True"
      ]
     },
     "execution_count": 125,
     "metadata": {},
     "output_type": "execute_result"
    }
   ],
   "source": [
    "not y"
   ]
  },
  {
   "cell_type": "code",
   "execution_count": null,
   "id": "2cc697ca-aa82-43b7-abcc-acd1d4e505d2",
   "metadata": {},
   "outputs": [],
   "source": []
  }
 ],
 "metadata": {
  "kernelspec": {
   "display_name": "Python 3 (ipykernel)",
   "language": "python",
   "name": "python3"
  },
  "language_info": {
   "codemirror_mode": {
    "name": "ipython",
    "version": 3
   },
   "file_extension": ".py",
   "mimetype": "text/x-python",
   "name": "python",
   "nbconvert_exporter": "python",
   "pygments_lexer": "ipython3",
   "version": "3.9.6"
  }
 },
 "nbformat": 4,
 "nbformat_minor": 5
}
