{
 "cells": [
  {
   "cell_type": "markdown",
   "id": "fc79fc3a-83bc-4493-93e5-776d199d2e05",
   "metadata": {},
   "source": [
    "## Python Data Types"
   ]
  },
  {
   "cell_type": "markdown",
   "id": "dd564f93-f0b3-4fd1-af4f-d055576f10b8",
   "metadata": {},
   "source": [
    "#### 1. String"
   ]
  },
  {
   "cell_type": "code",
   "execution_count": 3,
   "id": "b1f07779-f549-40a3-8899-94a2527e48fb",
   "metadata": {},
   "outputs": [
    {
     "name": "stdout",
     "output_type": "stream",
     "text": [
      "Hello World\n",
      "l\n",
      "ello \n"
     ]
    }
   ],
   "source": [
    "a_string = \"Hello World\"\n",
    "print(a_string)\n",
    "print(a_string[3])\n",
    "print(a_string[1:6])"
   ]
  },
  {
   "cell_type": "markdown",
   "id": "12977ac1-c842-465a-93b0-8a00714a62b6",
   "metadata": {},
   "source": [
    "#### 2. Sets"
   ]
  },
  {
   "cell_type": "code",
   "execution_count": 10,
   "id": "f2c7b9b9-5959-4c1c-948a-4e5534bf2347",
   "metadata": {},
   "outputs": [
    {
     "name": "stdout",
     "output_type": "stream",
     "text": [
      "{'mango', 'orange', 'banana', 'apple'}\n"
     ]
    }
   ],
   "source": [
    "# Sets - They are mutable and new elements can be added once sets are defined\n",
    "\n",
    "fruits = {\"apple\", 'orange', \"mango\", \"banana\", \"orange\"}\n",
    "print(fruits)"
   ]
  },
  {
   "cell_type": "code",
   "execution_count": 7,
   "id": "b188e8a0-e30b-47e1-a332-2cda0d0ed782",
   "metadata": {},
   "outputs": [
    {
     "name": "stdout",
     "output_type": "stream",
     "text": [
      "{'I', 'H', 'e', 'a', 'c', 'm', 't', 'k', 'h', 'r'}\n"
     ]
    }
   ],
   "source": [
    "s = set(\"IamtheHacker\")\n",
    "print(s)"
   ]
  },
  {
   "cell_type": "code",
   "execution_count": 9,
   "id": "31f51d03-e7ea-420b-8874-ed9b9f4b1918",
   "metadata": {},
   "outputs": [
    {
     "name": "stdout",
     "output_type": "stream",
     "text": [
      "{'I', 'H', 'e', 'a', 'c', 'm', 't', 'B', 'k', 'h', 'r'}\n"
     ]
    }
   ],
   "source": [
    "s. add(\"B\")\n",
    "print(s)"
   ]
  },
  {
   "cell_type": "code",
   "execution_count": 12,
   "id": "ff25c9f9-d59a-482f-84d7-27a67b26d9ed",
   "metadata": {},
   "outputs": [
    {
     "name": "stdout",
     "output_type": "stream",
     "text": [
      "frozenset({'I', 'e', 'a', 'G', 'm', 't', 'r'})\n"
     ]
    }
   ],
   "source": [
    "# Frozen Sets - They are immutable and new elements cannot added after its defined.\n",
    "\n",
    "f = frozenset(\"IamGreat\")\n",
    "print(f)"
   ]
  },
  {
   "cell_type": "markdown",
   "id": "29558008-1aff-4ef4-8ae5-2ef9a2803737",
   "metadata": {},
   "source": [
    "#### 3. Numbers"
   ]
  },
  {
   "cell_type": "code",
   "execution_count": 25,
   "id": "a1691891-9104-47bc-9901-206a273b77ba",
   "metadata": {},
   "outputs": [],
   "source": [
    "i = 10\n",
    "f = 3.1458\n",
    "c = 2.1j"
   ]
  },
  {
   "cell_type": "code",
   "execution_count": 18,
   "id": "d62d7a6c-e461-4c6f-94dc-71e1bd762826",
   "metadata": {},
   "outputs": [
    {
     "name": "stdout",
     "output_type": "stream",
     "text": [
      "<class 'int'>\n"
     ]
    }
   ],
   "source": [
    "print(type(i))"
   ]
  },
  {
   "cell_type": "code",
   "execution_count": 20,
   "id": "dfa19316-0fe2-4c26-94dd-9e930b5a54e1",
   "metadata": {},
   "outputs": [
    {
     "name": "stdout",
     "output_type": "stream",
     "text": [
      "<class 'float'>\n"
     ]
    }
   ],
   "source": [
    "print(type(f))"
   ]
  },
  {
   "cell_type": "code",
   "execution_count": 21,
   "id": "b203d190-57bc-4ec8-b45d-45a7fdece6c5",
   "metadata": {},
   "outputs": [
    {
     "name": "stdout",
     "output_type": "stream",
     "text": [
      "<class 'complex'>\n"
     ]
    }
   ],
   "source": [
    "print(type(c))"
   ]
  },
  {
   "cell_type": "code",
   "execution_count": 22,
   "id": "fbfc954d-1559-411c-b7e8-0889188bd319",
   "metadata": {},
   "outputs": [
    {
     "name": "stdout",
     "output_type": "stream",
     "text": [
      "<class 'int'>\n"
     ]
    }
   ],
   "source": [
    "print(type(l))"
   ]
  },
  {
   "cell_type": "markdown",
   "id": "bde95821-e929-4b38-8cc3-60495730d152",
   "metadata": {
    "tags": []
   },
   "source": [
    "#### 4. List"
   ]
  },
  {
   "cell_type": "code",
   "execution_count": 27,
   "id": "179bc7e8-f1af-4652-bf9c-b4ff15beacad",
   "metadata": {},
   "outputs": [
    {
     "name": "stdout",
     "output_type": "stream",
     "text": [
      "[12, 'hello', 34.5, 'b']\n",
      "['hello', 'hacker']\n"
     ]
    }
   ],
   "source": [
    "lst = [12, \"hello\", 34.5, 'b']\n",
    "lst1 = [\"hello\", \"hacker\"]\n",
    "print(lst)\n",
    "print(lst1)"
   ]
  },
  {
   "cell_type": "code",
   "execution_count": 29,
   "id": "8ff8305f-b6cc-4ec3-8995-43824839b4a2",
   "metadata": {},
   "outputs": [
    {
     "name": "stdout",
     "output_type": "stream",
     "text": [
      "[12, 'hello', 34.5]\n"
     ]
    }
   ],
   "source": [
    "print(lst[0:3])"
   ]
  },
  {
   "cell_type": "code",
   "execution_count": 30,
   "id": "21fbfe7d-4681-4873-ad23-c7dc9c589a8f",
   "metadata": {},
   "outputs": [
    {
     "name": "stdout",
     "output_type": "stream",
     "text": [
      "[12, 'hello', 34.5, 'b', 'hello', 'hacker']\n"
     ]
    }
   ],
   "source": [
    "print(lst + lst1)"
   ]
  },
  {
   "cell_type": "code",
   "execution_count": 31,
   "id": "b52cebfd-aee3-4600-9714-5dc180b1cc4e",
   "metadata": {},
   "outputs": [
    {
     "name": "stdout",
     "output_type": "stream",
     "text": [
      "['hello', 'hacker', 'hello', 'hacker']\n"
     ]
    }
   ],
   "source": [
    "print(lst1 * 2)"
   ]
  },
  {
   "cell_type": "markdown",
   "id": "edf2e5d7-8691-4079-97a5-8191e53bd7e0",
   "metadata": {},
   "source": [
    "#### 5. Dictionary"
   ]
  },
  {
   "cell_type": "code",
   "execution_count": 32,
   "id": "e87c180e-f3e6-43a9-8c65-32fc315d8b9a",
   "metadata": {},
   "outputs": [
    {
     "name": "stdout",
     "output_type": "stream",
     "text": [
      "{'name': 'Hacker', 'address': 'nowhere'}\n"
     ]
    }
   ],
   "source": [
    "dic = { \"name\" : \"Hacker\",\n",
    "       \"address\" : \"nowhere\"}\n",
    "print(dic)"
   ]
  },
  {
   "cell_type": "code",
   "execution_count": 33,
   "id": "c84daeec-6e10-4890-8337-f72eba75bf05",
   "metadata": {},
   "outputs": [
    {
     "name": "stdout",
     "output_type": "stream",
     "text": [
      "Hacker\n"
     ]
    }
   ],
   "source": [
    "print(dic[\"name\"])"
   ]
  },
  {
   "cell_type": "code",
   "execution_count": 34,
   "id": "ccedee6c-6949-42f3-a60d-464091b8c140",
   "metadata": {},
   "outputs": [
    {
     "name": "stdout",
     "output_type": "stream",
     "text": [
      "dict_values(['Hacker', 'nowhere'])\n"
     ]
    }
   ],
   "source": [
    "print(dic.values())"
   ]
  },
  {
   "cell_type": "code",
   "execution_count": 35,
   "id": "474dd733-b03b-4ef5-aa99-efc9e0b2f76e",
   "metadata": {},
   "outputs": [
    {
     "name": "stdout",
     "output_type": "stream",
     "text": [
      "dict_keys(['name', 'address'])\n"
     ]
    }
   ],
   "source": [
    "print(dic.keys())"
   ]
  },
  {
   "cell_type": "markdown",
   "id": "b6241104-5c0c-41b4-ae6e-f329dcf4eff6",
   "metadata": {},
   "source": [
    "#### 6. Tuples"
   ]
  },
  {
   "cell_type": "code",
   "execution_count": 36,
   "id": "f1930ad9-2527-4d58-b30c-efcb1d23321c",
   "metadata": {},
   "outputs": [
    {
     "name": "stdout",
     "output_type": "stream",
     "text": [
      "('you', 'Rock')\n",
      "(1, 'done')\n"
     ]
    }
   ],
   "source": [
    "tple = (\"you\", \"Rock\")\n",
    "tple1 = (1, \"done\")\n",
    "print(tple)\n",
    "print(tple1)"
   ]
  },
  {
   "cell_type": "code",
   "execution_count": 38,
   "id": "afdcb8dc-3129-4588-ab5f-0de5c5f3ad11",
   "metadata": {},
   "outputs": [
    {
     "name": "stdout",
     "output_type": "stream",
     "text": [
      "Rock\n"
     ]
    }
   ],
   "source": [
    "print(tple[1])"
   ]
  },
  {
   "cell_type": "code",
   "execution_count": 39,
   "id": "71197816-0192-4bfd-a9ed-a856f015807a",
   "metadata": {},
   "outputs": [
    {
     "name": "stdout",
     "output_type": "stream",
     "text": [
      "('you', 'Rock', 1, 'done')\n"
     ]
    }
   ],
   "source": [
    "print(tple + tple1)"
   ]
  },
  {
   "cell_type": "code",
   "execution_count": null,
   "id": "e13af611-05ab-42d2-b7f1-048a019f3b92",
   "metadata": {},
   "outputs": [],
   "source": []
  }
 ],
 "metadata": {
  "kernelspec": {
   "display_name": "Python 3 (ipykernel)",
   "language": "python",
   "name": "python3"
  },
  "language_info": {
   "codemirror_mode": {
    "name": "ipython",
    "version": 3
   },
   "file_extension": ".py",
   "mimetype": "text/x-python",
   "name": "python",
   "nbconvert_exporter": "python",
   "pygments_lexer": "ipython3",
   "version": "3.9.6"
  }
 },
 "nbformat": 4,
 "nbformat_minor": 5
}
